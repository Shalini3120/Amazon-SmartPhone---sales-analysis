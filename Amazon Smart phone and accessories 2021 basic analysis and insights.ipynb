{
 "cells": [
  {
   "cell_type": "markdown",
   "id": "1e39b5eb",
   "metadata": {},
   "source": [
    "# Amazon Top Rated Smartphones & Accessories 2021 "
   ]
  },
  {
   "cell_type": "markdown",
   "id": "904fae92",
   "metadata": {},
   "source": [
    "#### 1. Amazon.com, Inc. is an American multinational conglomerate that focuses on e-commerce, cloud computing, digital streaming, and artificial intelligence. It is one of the Big Five companies in the U.S. information technology industry, along with Google, Apple, Microsoft, and Facebook.\n",
    "#### 2. Amazon Top Rated Smartphones & Accessories 2021 Dataset was scraped from amazon.in website of the e-commerce amazon India. the dataset contains smartphones title with its specification according to its rating and number of review count in the dataset column. there is a piece of additional information about the smartphone. that is its offer price and actual price with its discount percentage and delivery options\n",
    "#### 3.Amazon Top Rated Smartphones & Accessories 2021 dataset is scraped from the e-commerce website."
   ]
  },
  {
   "cell_type": "markdown",
   "id": "9a58bb75",
   "metadata": {},
   "source": [
    "### Q1. Import the necessary libraries"
   ]
  },
  {
   "cell_type": "code",
   "execution_count": 1,
   "id": "e2f332ef",
   "metadata": {},
   "outputs": [],
   "source": [
    "import numpy as np\n",
    "import pandas as pd\n",
    "import seaborn as sns\n",
    "import matplotlib.pyplot as plt\n",
    "import warnings \n",
    "warnings.filterwarnings('ignore')\n",
    "\n",
    "import sklearn\n",
    "from sklearn.preprocessing import LabelEncoder, MinMaxScaler, StandardScaler\n",
    "from sklearn.impute import KNNImputer"
   ]
  },
  {
   "cell_type": "markdown",
   "id": "9082c255",
   "metadata": {},
   "source": [
    "### Q2. Load the dataset and read the top 5 and bottom 5 records"
   ]
  },
  {
   "cell_type": "code",
   "execution_count": 2,
   "id": "c2b7a654",
   "metadata": {},
   "outputs": [
    {
     "data": {
      "text/html": [
       "<div>\n",
       "<style scoped>\n",
       "    .dataframe tbody tr th:only-of-type {\n",
       "        vertical-align: middle;\n",
       "    }\n",
       "\n",
       "    .dataframe tbody tr th {\n",
       "        vertical-align: top;\n",
       "    }\n",
       "\n",
       "    .dataframe thead th {\n",
       "        text-align: right;\n",
       "    }\n",
       "</style>\n",
       "<table border=\"1\" class=\"dataframe\">\n",
       "  <thead>\n",
       "    <tr style=\"text-align: right;\">\n",
       "      <th></th>\n",
       "      <th>Smartphone</th>\n",
       "      <th>Rating</th>\n",
       "      <th>Reviews count</th>\n",
       "      <th>Offer price</th>\n",
       "      <th>Actual price</th>\n",
       "      <th>Saving</th>\n",
       "      <th>Delivery</th>\n",
       "      <th>Status of stock &amp; more offers</th>\n",
       "    </tr>\n",
       "  </thead>\n",
       "  <tbody>\n",
       "    <tr>\n",
       "      <th>0</th>\n",
       "      <td>Redmi 9 (Sky Blue, 4GB RAM, 64GB Storage) | 2....</td>\n",
       "      <td>4.2 out of 5 stars</td>\n",
       "      <td>87,809</td>\n",
       "      <td>₹9,499</td>\n",
       "      <td>₹10,999</td>\n",
       "      <td>Save ₹1,500 (14%)</td>\n",
       "      <td>FREE Delivery by Amazon</td>\n",
       "      <td>NaN</td>\n",
       "    </tr>\n",
       "    <tr>\n",
       "      <th>1</th>\n",
       "      <td>Redmi 9A (Nature Green, 2GB RAM, 32GB Storage)...</td>\n",
       "      <td>4.2 out of 5 stars</td>\n",
       "      <td>74,587</td>\n",
       "      <td>₹6,999</td>\n",
       "      <td>₹8,499</td>\n",
       "      <td>Save ₹1,500 (18%)</td>\n",
       "      <td>FREE Delivery by Amazon</td>\n",
       "      <td>NaN</td>\n",
       "    </tr>\n",
       "    <tr>\n",
       "      <th>2</th>\n",
       "      <td>Redmi 9A (Sea Blue 2GB RAM 32GB Storage) | 2GH...</td>\n",
       "      <td>4.2 out of 5 stars</td>\n",
       "      <td>74,587</td>\n",
       "      <td>₹6,999</td>\n",
       "      <td>₹8,499</td>\n",
       "      <td>Save ₹1,500 (18%)</td>\n",
       "      <td>FREE Delivery by Amazon</td>\n",
       "      <td>NaN</td>\n",
       "    </tr>\n",
       "    <tr>\n",
       "      <th>3</th>\n",
       "      <td>Redmi Note 10 (Aqua Green, 4GB RAM, 64GB Stora...</td>\n",
       "      <td>4.2 out of 5 stars</td>\n",
       "      <td>95,519</td>\n",
       "      <td>₹13,999</td>\n",
       "      <td>₹15,999</td>\n",
       "      <td>Save ₹2,000 (13%)</td>\n",
       "      <td>FREE Delivery by Amazon</td>\n",
       "      <td>NaN</td>\n",
       "    </tr>\n",
       "    <tr>\n",
       "      <th>4</th>\n",
       "      <td>Redmi 9 (Carbon Black, 4GB RAM, 64GB Storage) ...</td>\n",
       "      <td>4.2 out of 5 stars</td>\n",
       "      <td>87,809</td>\n",
       "      <td>₹9,499</td>\n",
       "      <td>₹10,999</td>\n",
       "      <td>Save ₹1,500 (14%)</td>\n",
       "      <td>FREE Delivery by Amazon</td>\n",
       "      <td>NaN</td>\n",
       "    </tr>\n",
       "  </tbody>\n",
       "</table>\n",
       "</div>"
      ],
      "text/plain": [
       "                                          Smartphone              Rating  \\\n",
       "0  Redmi 9 (Sky Blue, 4GB RAM, 64GB Storage) | 2....  4.2 out of 5 stars   \n",
       "1  Redmi 9A (Nature Green, 2GB RAM, 32GB Storage)...  4.2 out of 5 stars   \n",
       "2  Redmi 9A (Sea Blue 2GB RAM 32GB Storage) | 2GH...  4.2 out of 5 stars   \n",
       "3  Redmi Note 10 (Aqua Green, 4GB RAM, 64GB Stora...  4.2 out of 5 stars   \n",
       "4  Redmi 9 (Carbon Black, 4GB RAM, 64GB Storage) ...  4.2 out of 5 stars   \n",
       "\n",
       "  Reviews count Offer price Actual price             Saving  \\\n",
       "0        87,809      ₹9,499      ₹10,999  Save ₹1,500 (14%)   \n",
       "1        74,587      ₹6,999       ₹8,499  Save ₹1,500 (18%)   \n",
       "2        74,587      ₹6,999       ₹8,499  Save ₹1,500 (18%)   \n",
       "3        95,519     ₹13,999      ₹15,999  Save ₹2,000 (13%)   \n",
       "4        87,809      ₹9,499      ₹10,999  Save ₹1,500 (14%)   \n",
       "\n",
       "                  Delivery Status of stock & more offers  \n",
       "0  FREE Delivery by Amazon                           NaN  \n",
       "1  FREE Delivery by Amazon                           NaN  \n",
       "2  FREE Delivery by Amazon                           NaN  \n",
       "3  FREE Delivery by Amazon                           NaN  \n",
       "4  FREE Delivery by Amazon                           NaN  "
      ]
     },
     "execution_count": 2,
     "metadata": {},
     "output_type": "execute_result"
    }
   ],
   "source": [
    "df = pd.read_csv(\"Amazon_data.csv\")\n",
    "df.head()"
   ]
  },
  {
   "cell_type": "code",
   "execution_count": 3,
   "id": "7aa84e56",
   "metadata": {},
   "outputs": [
    {
     "data": {
      "text/html": [
       "<div>\n",
       "<style scoped>\n",
       "    .dataframe tbody tr th:only-of-type {\n",
       "        vertical-align: middle;\n",
       "    }\n",
       "\n",
       "    .dataframe tbody tr th {\n",
       "        vertical-align: top;\n",
       "    }\n",
       "\n",
       "    .dataframe thead th {\n",
       "        text-align: right;\n",
       "    }\n",
       "</style>\n",
       "<table border=\"1\" class=\"dataframe\">\n",
       "  <thead>\n",
       "    <tr style=\"text-align: right;\">\n",
       "      <th></th>\n",
       "      <th>Smartphone</th>\n",
       "      <th>Rating</th>\n",
       "      <th>Reviews count</th>\n",
       "      <th>Offer price</th>\n",
       "      <th>Actual price</th>\n",
       "      <th>Saving</th>\n",
       "      <th>Delivery</th>\n",
       "      <th>Status of stock &amp; more offers</th>\n",
       "    </tr>\n",
       "  </thead>\n",
       "  <tbody>\n",
       "    <tr>\n",
       "      <th>1362</th>\n",
       "      <td>Nillkin Case for Apple iPhone 12 / iPhone 12 P...</td>\n",
       "      <td>5.0 out of 5 stars</td>\n",
       "      <td>1</td>\n",
       "      <td>₹4,499</td>\n",
       "      <td>₹5,999</td>\n",
       "      <td>Save ₹1,500 (25%)</td>\n",
       "      <td>FREE Delivery by Amazon</td>\n",
       "      <td>Only 1 left in stock.</td>\n",
       "    </tr>\n",
       "    <tr>\n",
       "      <th>1363</th>\n",
       "      <td>Nillkin Case for Apple iPhone 12 / iPhone 12 P...</td>\n",
       "      <td>5.0 out of 5 stars</td>\n",
       "      <td>1</td>\n",
       "      <td>₹3,999</td>\n",
       "      <td>₹4,999</td>\n",
       "      <td>Save ₹1,000 (20%)</td>\n",
       "      <td>FREE Delivery by Amazon</td>\n",
       "      <td>Only 2 left in stock.</td>\n",
       "    </tr>\n",
       "    <tr>\n",
       "      <th>1364</th>\n",
       "      <td>Nillkin Case for Samsung Galaxy F62 F 62 / Sam...</td>\n",
       "      <td>5.0 out of 5 stars</td>\n",
       "      <td>1</td>\n",
       "      <td>₹1,099</td>\n",
       "      <td>₹1,699</td>\n",
       "      <td>Save ₹600 (35%)</td>\n",
       "      <td>FREE Delivery by Amazon</td>\n",
       "      <td>Only 1 left in stock.</td>\n",
       "    </tr>\n",
       "    <tr>\n",
       "      <th>1365</th>\n",
       "      <td>Nillkin Case for Xiaomi Redmi Note 10 / Note 1...</td>\n",
       "      <td>5.0 out of 5 stars</td>\n",
       "      <td>1</td>\n",
       "      <td>₹1,299</td>\n",
       "      <td>₹1,699</td>\n",
       "      <td>Save ₹400 (24%)</td>\n",
       "      <td>FREE Delivery by Amazon</td>\n",
       "      <td>Only 1 left in stock.</td>\n",
       "    </tr>\n",
       "    <tr>\n",
       "      <th>1366</th>\n",
       "      <td>Nillkin Case for Samsung Galaxy A72 A 72 (6.7\"...</td>\n",
       "      <td>5.0 out of 5 stars</td>\n",
       "      <td>1</td>\n",
       "      <td>₹1,199</td>\n",
       "      <td>₹2,499</td>\n",
       "      <td>Save ₹1,300 (52%)</td>\n",
       "      <td>FREE Delivery by Amazon</td>\n",
       "      <td>Only 2 left in stock.</td>\n",
       "    </tr>\n",
       "  </tbody>\n",
       "</table>\n",
       "</div>"
      ],
      "text/plain": [
       "                                             Smartphone              Rating  \\\n",
       "1362  Nillkin Case for Apple iPhone 12 / iPhone 12 P...  5.0 out of 5 stars   \n",
       "1363  Nillkin Case for Apple iPhone 12 / iPhone 12 P...  5.0 out of 5 stars   \n",
       "1364  Nillkin Case for Samsung Galaxy F62 F 62 / Sam...  5.0 out of 5 stars   \n",
       "1365  Nillkin Case for Xiaomi Redmi Note 10 / Note 1...  5.0 out of 5 stars   \n",
       "1366  Nillkin Case for Samsung Galaxy A72 A 72 (6.7\"...  5.0 out of 5 stars   \n",
       "\n",
       "     Reviews count Offer price Actual price             Saving  \\\n",
       "1362             1      ₹4,499       ₹5,999  Save ₹1,500 (25%)   \n",
       "1363             1      ₹3,999       ₹4,999  Save ₹1,000 (20%)   \n",
       "1364             1      ₹1,099       ₹1,699    Save ₹600 (35%)   \n",
       "1365             1      ₹1,299       ₹1,699    Save ₹400 (24%)   \n",
       "1366             1      ₹1,199       ₹2,499  Save ₹1,300 (52%)   \n",
       "\n",
       "                     Delivery Status of stock & more offers  \n",
       "1362  FREE Delivery by Amazon         Only 1 left in stock.  \n",
       "1363  FREE Delivery by Amazon         Only 2 left in stock.  \n",
       "1364  FREE Delivery by Amazon         Only 1 left in stock.  \n",
       "1365  FREE Delivery by Amazon         Only 1 left in stock.  \n",
       "1366  FREE Delivery by Amazon         Only 2 left in stock.  "
      ]
     },
     "execution_count": 3,
     "metadata": {},
     "output_type": "execute_result"
    }
   ],
   "source": [
    "df.tail()"
   ]
  },
  {
   "cell_type": "markdown",
   "id": "ef7fbd32",
   "metadata": {},
   "source": [
    "### Q3.Check the info of the dataframe and write your inferences on data types and shape of the dataset"
   ]
  },
  {
   "cell_type": "code",
   "execution_count": 4,
   "id": "e2b7f86b",
   "metadata": {},
   "outputs": [
    {
     "name": "stdout",
     "output_type": "stream",
     "text": [
      "<class 'pandas.core.frame.DataFrame'>\n",
      "RangeIndex: 1367 entries, 0 to 1366\n",
      "Data columns (total 8 columns):\n",
      " #   Column                         Non-Null Count  Dtype \n",
      "---  ------                         --------------  ----- \n",
      " 0   Smartphone                     1367 non-null   object\n",
      " 1   Rating                         1367 non-null   object\n",
      " 2   Reviews count                  1367 non-null   object\n",
      " 3   Offer price                    1153 non-null   object\n",
      " 4   Actual price                   1041 non-null   object\n",
      " 5   Saving                         1150 non-null   object\n",
      " 6   Delivery                       1367 non-null   object\n",
      " 7   Status of stock & more offers  498 non-null    object\n",
      "dtypes: object(8)\n",
      "memory usage: 85.6+ KB\n"
     ]
    }
   ],
   "source": [
    "df.info()"
   ]
  },
  {
   "cell_type": "code",
   "execution_count": 5,
   "id": "b8c2be56",
   "metadata": {},
   "outputs": [
    {
     "data": {
      "text/plain": [
       "(1367, 8)"
      ]
     },
     "execution_count": 5,
     "metadata": {},
     "output_type": "execute_result"
    }
   ],
   "source": [
    "df.shape"
   ]
  },
  {
   "cell_type": "code",
   "execution_count": 6,
   "id": "4648c877",
   "metadata": {},
   "outputs": [
    {
     "data": {
      "text/plain": [
       "Smartphone                       object\n",
       "Rating                           object\n",
       "Reviews count                    object\n",
       "Offer price                      object\n",
       "Actual price                     object\n",
       "Saving                           object\n",
       "Delivery                         object\n",
       "Status of stock & more offers    object\n",
       "dtype: object"
      ]
     },
     "execution_count": 6,
     "metadata": {},
     "output_type": "execute_result"
    }
   ],
   "source": [
    "df.dtypes"
   ]
  },
  {
   "cell_type": "markdown",
   "id": "075df9ca",
   "metadata": {},
   "source": [
    "#### Note: Datatype of all the features is in object type, We need to remove unwanted characters in the data and convert the datatypes to there suitable datatypes."
   ]
  },
  {
   "cell_type": "code",
   "execution_count": 7,
   "id": "1c53357b",
   "metadata": {},
   "outputs": [
    {
     "data": {
      "text/plain": [
       "Index(['Smartphone', 'Rating', 'Reviews count', 'Offer price', 'Actual price',\n",
       "       'Saving', 'Delivery', 'Status of stock & more offers'],\n",
       "      dtype='object')"
      ]
     },
     "execution_count": 7,
     "metadata": {},
     "output_type": "execute_result"
    }
   ],
   "source": [
    "df.columns # 'columns' method provides name of each column"
   ]
  },
  {
   "cell_type": "code",
   "execution_count": 8,
   "id": "6f0b69aa",
   "metadata": {},
   "outputs": [
    {
     "data": {
      "text/plain": [
       "Smartphone                       1307\n",
       "Rating                             11\n",
       "Reviews count                     363\n",
       "Offer price                       510\n",
       "Actual price                      281\n",
       "Saving                            611\n",
       "Delivery                            3\n",
       "Status of stock & more offers      17\n",
       "dtype: int64"
      ]
     },
     "execution_count": 8,
     "metadata": {},
     "output_type": "execute_result"
    }
   ],
   "source": [
    "df.nunique() #nuniques() function provides the total number of uniques values present in each feature"
   ]
  },
  {
   "cell_type": "markdown",
   "id": "8362bafe",
   "metadata": {},
   "source": [
    "### Q4. Find and drop duplicate values."
   ]
  },
  {
   "cell_type": "code",
   "execution_count": 9,
   "id": "019c83f0",
   "metadata": {},
   "outputs": [
    {
     "data": {
      "text/html": [
       "<div>\n",
       "<style scoped>\n",
       "    .dataframe tbody tr th:only-of-type {\n",
       "        vertical-align: middle;\n",
       "    }\n",
       "\n",
       "    .dataframe tbody tr th {\n",
       "        vertical-align: top;\n",
       "    }\n",
       "\n",
       "    .dataframe thead th {\n",
       "        text-align: right;\n",
       "    }\n",
       "</style>\n",
       "<table border=\"1\" class=\"dataframe\">\n",
       "  <thead>\n",
       "    <tr style=\"text-align: right;\">\n",
       "      <th></th>\n",
       "      <th>Smartphone</th>\n",
       "      <th>Rating</th>\n",
       "      <th>Reviews count</th>\n",
       "      <th>Offer price</th>\n",
       "      <th>Actual price</th>\n",
       "      <th>Saving</th>\n",
       "      <th>Delivery</th>\n",
       "      <th>Status of stock &amp; more offers</th>\n",
       "    </tr>\n",
       "  </thead>\n",
       "  <tbody>\n",
       "    <tr>\n",
       "      <th>144</th>\n",
       "      <td>Nokia 3310 Dual SIM Feature Phone with MP3 Pla...</td>\n",
       "      <td>4.2 out of 5 stars</td>\n",
       "      <td>12,691</td>\n",
       "      <td>₹4,006</td>\n",
       "      <td>₹4,399</td>\n",
       "      <td>Save ₹393 (9%)</td>\n",
       "      <td>FREE Delivery by Amazon</td>\n",
       "      <td>More Buying Choices</td>\n",
       "    </tr>\n",
       "    <tr>\n",
       "      <th>145</th>\n",
       "      <td>Samsung Metro 313 (SM-B313E, Grey)</td>\n",
       "      <td>4.1 out of 5 stars</td>\n",
       "      <td>7,398</td>\n",
       "      <td>₹2,340</td>\n",
       "      <td>NaN</td>\n",
       "      <td>Get it by</td>\n",
       "      <td>Paid</td>\n",
       "      <td>NaN</td>\n",
       "    </tr>\n",
       "    <tr>\n",
       "      <th>192</th>\n",
       "      <td>Nokia 3310 Dual SIM Feature Phone with MP3 Pla...</td>\n",
       "      <td>4.2 out of 5 stars</td>\n",
       "      <td>12,691</td>\n",
       "      <td>₹4,290</td>\n",
       "      <td>₹4,399</td>\n",
       "      <td>Save ₹109 (2%)</td>\n",
       "      <td>FREE Delivery by Amazon</td>\n",
       "      <td>NaN</td>\n",
       "    </tr>\n",
       "    <tr>\n",
       "      <th>312</th>\n",
       "      <td>Samsung Galaxy A72 (Black, 8GB RAM, 128GB Stor...</td>\n",
       "      <td>4.2 out of 5 stars</td>\n",
       "      <td>466</td>\n",
       "      <td>₹34,999</td>\n",
       "      <td>₹41,999</td>\n",
       "      <td>Save ₹7,000 (17%)</td>\n",
       "      <td>FREE Delivery by Amazon</td>\n",
       "      <td>NaN</td>\n",
       "    </tr>\n",
       "    <tr>\n",
       "      <th>336</th>\n",
       "      <td>New Apple iPhone 12 Pro (256GB) - Pacific Blue</td>\n",
       "      <td>4.6 out of 5 stars</td>\n",
       "      <td>576</td>\n",
       "      <td>₹1,18,900</td>\n",
       "      <td>₹1,29,900</td>\n",
       "      <td>Save ₹11,000 (8%)</td>\n",
       "      <td>FREE Delivery by Amazon</td>\n",
       "      <td>NaN</td>\n",
       "    </tr>\n",
       "    <tr>\n",
       "      <th>416</th>\n",
       "      <td>Mi Redmi 8 Smartphone (Onyx Black, 4GB RAM, 64...</td>\n",
       "      <td>4.1 out of 5 stars</td>\n",
       "      <td>1,070</td>\n",
       "      <td>₹10,850</td>\n",
       "      <td>₹12,999</td>\n",
       "      <td>Save ₹2,149 (17%)</td>\n",
       "      <td>Paid</td>\n",
       "      <td>Only 2 left in stock.</td>\n",
       "    </tr>\n",
       "    <tr>\n",
       "      <th>417</th>\n",
       "      <td>Honor 7A (Blue, 3GB RAM, 32GB Storage)</td>\n",
       "      <td>4.7 out of 5 stars</td>\n",
       "      <td>3</td>\n",
       "      <td>₹8,999</td>\n",
       "      <td>₹10,999</td>\n",
       "      <td>Save ₹2,000 (18%)</td>\n",
       "      <td>FREE Delivery by Amazon</td>\n",
       "      <td>NaN</td>\n",
       "    </tr>\n",
       "    <tr>\n",
       "      <th>438</th>\n",
       "      <td>Kechaoda K55+ (Silver, 32GB)</td>\n",
       "      <td>4.1 out of 5 stars</td>\n",
       "      <td>109</td>\n",
       "      <td>₹999</td>\n",
       "      <td>₹1,299</td>\n",
       "      <td>Save ₹300 (23%)</td>\n",
       "      <td>FREE Delivery by Amazon</td>\n",
       "      <td>More Buying Choices</td>\n",
       "    </tr>\n",
       "    <tr>\n",
       "      <th>441</th>\n",
       "      <td>I KALL K48 Keypad Mobile (1.8 Inch, Big Batter...</td>\n",
       "      <td>4.4 out of 5 stars</td>\n",
       "      <td>5</td>\n",
       "      <td>₹719</td>\n",
       "      <td>₹999</td>\n",
       "      <td>Save ₹280 (28%)</td>\n",
       "      <td>Paid</td>\n",
       "      <td>NaN</td>\n",
       "    </tr>\n",
       "    <tr>\n",
       "      <th>442</th>\n",
       "      <td>Vivo U20 (Racing Black, Snapdragon 675 AIE, 4G...</td>\n",
       "      <td>4.3 out of 5 stars</td>\n",
       "      <td>22,750</td>\n",
       "      <td>NaN</td>\n",
       "      <td>NaN</td>\n",
       "      <td>NaN</td>\n",
       "      <td>Paid</td>\n",
       "      <td>NaN</td>\n",
       "    </tr>\n",
       "    <tr>\n",
       "      <th>456</th>\n",
       "      <td>Redmi 9i (Nature Green, 4GB RAM, 128GB Storage)</td>\n",
       "      <td>4.1 out of 5 stars</td>\n",
       "      <td>1,370</td>\n",
       "      <td>NaN</td>\n",
       "      <td>NaN</td>\n",
       "      <td>NaN</td>\n",
       "      <td>Paid</td>\n",
       "      <td>NaN</td>\n",
       "    </tr>\n",
       "    <tr>\n",
       "      <th>484</th>\n",
       "      <td>Mi Max 2 (Black, 4GB RAM, 64GB Storage)</td>\n",
       "      <td>4.3 out of 5 stars</td>\n",
       "      <td>5,014</td>\n",
       "      <td>₹16,999</td>\n",
       "      <td>₹17,999</td>\n",
       "      <td>Save ₹1,000 (6%)</td>\n",
       "      <td>FREE Delivery by Amazon</td>\n",
       "      <td>More Buying Choices</td>\n",
       "    </tr>\n",
       "    <tr>\n",
       "      <th>491</th>\n",
       "      <td>(Renewed) Redmi Note 7 Pro (Nebula Red, 64GB, ...</td>\n",
       "      <td>4.0 out of 5 stars</td>\n",
       "      <td>28</td>\n",
       "      <td>₹9,849</td>\n",
       "      <td>₹15,999</td>\n",
       "      <td>Save ₹6,150 (38%)</td>\n",
       "      <td>FREE Delivery by Amazon</td>\n",
       "      <td>Only 1 left in stock.</td>\n",
       "    </tr>\n",
       "    <tr>\n",
       "      <th>504</th>\n",
       "      <td>MI Poco X3 (Cobalt Blue, 8GB RAM / 128 Storage)</td>\n",
       "      <td>4.2 out of 5 stars</td>\n",
       "      <td>269</td>\n",
       "      <td>₹22,999</td>\n",
       "      <td>NaN</td>\n",
       "      <td>Get it by</td>\n",
       "      <td>Paid</td>\n",
       "      <td>NaN</td>\n",
       "    </tr>\n",
       "    <tr>\n",
       "      <th>529</th>\n",
       "      <td>Redmi 6 (Black, 3GB RAM, 32GB Storage)</td>\n",
       "      <td>4.1 out of 5 stars</td>\n",
       "      <td>14,007</td>\n",
       "      <td>₹8,999</td>\n",
       "      <td>NaN</td>\n",
       "      <td>Get it by</td>\n",
       "      <td>Paid</td>\n",
       "      <td>Only 1 left in stock.</td>\n",
       "    </tr>\n",
       "    <tr>\n",
       "      <th>530</th>\n",
       "      <td>Vivo Y72 5G (Prism Magic, 8GB RAM, 128GB Stora...</td>\n",
       "      <td>4.0 out of 5 stars</td>\n",
       "      <td>153</td>\n",
       "      <td>₹21,689</td>\n",
       "      <td>₹25,689</td>\n",
       "      <td>Save ₹4,000 (15%)</td>\n",
       "      <td>Paid</td>\n",
       "      <td>NaN</td>\n",
       "    </tr>\n",
       "    <tr>\n",
       "      <th>543</th>\n",
       "      <td>Redmi Xiaomi Note 7 Pro Phone (Neptune Blue, 4...</td>\n",
       "      <td>4.2 out of 5 stars</td>\n",
       "      <td>752</td>\n",
       "      <td>₹14,980</td>\n",
       "      <td>₹15,999</td>\n",
       "      <td>Save ₹1,019 (6%)</td>\n",
       "      <td>Paid</td>\n",
       "      <td>Only 1 left in stock.</td>\n",
       "    </tr>\n",
       "    <tr>\n",
       "      <th>546</th>\n",
       "      <td>Nillkin Super Frosted Hard PC Back Case Cover ...</td>\n",
       "      <td>4.4 out of 5 stars</td>\n",
       "      <td>40</td>\n",
       "      <td>₹499</td>\n",
       "      <td>₹990</td>\n",
       "      <td>Save ₹491 (50%)</td>\n",
       "      <td>FREE Delivery by Amazon</td>\n",
       "      <td>More Buying Choices</td>\n",
       "    </tr>\n",
       "    <tr>\n",
       "      <th>552</th>\n",
       "      <td>Note 7 Pro (Space Black, 64GB, 4GB RAM)</td>\n",
       "      <td>4.2 out of 5 stars</td>\n",
       "      <td>971</td>\n",
       "      <td>NaN</td>\n",
       "      <td>NaN</td>\n",
       "      <td>NaN</td>\n",
       "      <td>Paid</td>\n",
       "      <td>NaN</td>\n",
       "    </tr>\n",
       "    <tr>\n",
       "      <th>555</th>\n",
       "      <td>Lava Gem Wave Big Screen Dual SIM KEYPAD Mobile</td>\n",
       "      <td>4.2 out of 5 stars</td>\n",
       "      <td>18</td>\n",
       "      <td>₹1,849</td>\n",
       "      <td>₹1,899</td>\n",
       "      <td>Save ₹50 (3%)</td>\n",
       "      <td>Paid</td>\n",
       "      <td>NaN</td>\n",
       "    </tr>\n",
       "    <tr>\n",
       "      <th>581</th>\n",
       "      <td>Mi A2 (Blue, 6GB RAM, 128GB Storage)</td>\n",
       "      <td>4.0 out of 5 stars</td>\n",
       "      <td>45,901</td>\n",
       "      <td>₹19,990</td>\n",
       "      <td>₹20,500</td>\n",
       "      <td>Save ₹510 (2%)</td>\n",
       "      <td>FREE Delivery by Amazon</td>\n",
       "      <td>Only 2 left in stock.</td>\n",
       "    </tr>\n",
       "    <tr>\n",
       "      <th>600</th>\n",
       "      <td>Nillkin Case for Samsung Galaxy S10 S 10 Lite ...</td>\n",
       "      <td>5.0 out of 5 stars</td>\n",
       "      <td>2</td>\n",
       "      <td>₹743</td>\n",
       "      <td>₹1,499</td>\n",
       "      <td>Save ₹756 (50%)</td>\n",
       "      <td>Paid</td>\n",
       "      <td>More Buying Choices</td>\n",
       "    </tr>\n",
       "    <tr>\n",
       "      <th>601</th>\n",
       "      <td>Kechaoda A6 Tripple Sim 3.5\" Inch Large Screen...</td>\n",
       "      <td>5.0 out of 5 stars</td>\n",
       "      <td>1</td>\n",
       "      <td>₹1,549</td>\n",
       "      <td>₹1,990</td>\n",
       "      <td>Save ₹441 (22%)</td>\n",
       "      <td>Paid</td>\n",
       "      <td>NaN</td>\n",
       "    </tr>\n",
       "    <tr>\n",
       "      <th>602</th>\n",
       "      <td>MI Poco X3 (Cobalt Blue, 6GB RAM / 64GB Storage)</td>\n",
       "      <td>4.2 out of 5 stars</td>\n",
       "      <td>269</td>\n",
       "      <td>NaN</td>\n",
       "      <td>NaN</td>\n",
       "      <td>NaN</td>\n",
       "      <td>Paid</td>\n",
       "      <td>NaN</td>\n",
       "    </tr>\n",
       "    <tr>\n",
       "      <th>603</th>\n",
       "      <td>Vivo Y72 5G (Slate Gray, 8GB RAM, 128GB Storag...</td>\n",
       "      <td>4.0 out of 5 stars</td>\n",
       "      <td>153</td>\n",
       "      <td>₹21,689</td>\n",
       "      <td>₹25,689</td>\n",
       "      <td>Save ₹4,000 (15%)</td>\n",
       "      <td>Paid</td>\n",
       "      <td>NaN</td>\n",
       "    </tr>\n",
       "    <tr>\n",
       "      <th>604</th>\n",
       "      <td>TECNO Spark 7T(Magnet Black, 4GB RAM,64GB Stor...</td>\n",
       "      <td>4.0 out of 5 stars</td>\n",
       "      <td>4,611</td>\n",
       "      <td>₹11,498</td>\n",
       "      <td>₹12,998</td>\n",
       "      <td>Save ₹1,500 (11%)</td>\n",
       "      <td>Paid</td>\n",
       "      <td>NaN</td>\n",
       "    </tr>\n",
       "    <tr>\n",
       "      <th>608</th>\n",
       "      <td>Redmi Note 7 (Onyx Black, 4GB RAM, 64GB Storage)</td>\n",
       "      <td>4.3 out of 5 stars</td>\n",
       "      <td>561</td>\n",
       "      <td>₹14,990</td>\n",
       "      <td>NaN</td>\n",
       "      <td>Get it by</td>\n",
       "      <td>Paid</td>\n",
       "      <td>Only 2 left in stock.</td>\n",
       "    </tr>\n",
       "    <tr>\n",
       "      <th>624</th>\n",
       "      <td>Nillkin Slim Frosted Anti-Falling Anti Fingerp...</td>\n",
       "      <td>5.0 out of 5 stars</td>\n",
       "      <td>6</td>\n",
       "      <td>₹525</td>\n",
       "      <td>₹1,999</td>\n",
       "      <td>Save ₹1,474 (74%)</td>\n",
       "      <td>FREE Delivery by Amazon</td>\n",
       "      <td>NaN</td>\n",
       "    </tr>\n",
       "    <tr>\n",
       "      <th>631</th>\n",
       "      <td>Samsung Galaxy A31 (Prism Crush Black, 6GB RAM...</td>\n",
       "      <td>4.2 out of 5 stars</td>\n",
       "      <td>2,236</td>\n",
       "      <td>NaN</td>\n",
       "      <td>NaN</td>\n",
       "      <td>NaN</td>\n",
       "      <td>Paid</td>\n",
       "      <td>NaN</td>\n",
       "    </tr>\n",
       "    <tr>\n",
       "      <th>659</th>\n",
       "      <td>Tecno Pova (4GB,64GB) (Speed Purple)</td>\n",
       "      <td>4.1 out of 5 stars</td>\n",
       "      <td>15</td>\n",
       "      <td>₹11,576.25</td>\n",
       "      <td>₹11,999</td>\n",
       "      <td>Save ₹422.75 (4%)</td>\n",
       "      <td>First Order Free Delivery</td>\n",
       "      <td>More Buying Choices</td>\n",
       "    </tr>\n",
       "    <tr>\n",
       "      <th>688</th>\n",
       "      <td>(Renewed) Vivo Y91i (Ocean Blue, 2GB RAM, 32GB...</td>\n",
       "      <td>4.2 out of 5 stars</td>\n",
       "      <td>5</td>\n",
       "      <td>₹6,999</td>\n",
       "      <td>₹8,490</td>\n",
       "      <td>Save ₹1,491 (17%)</td>\n",
       "      <td>Paid</td>\n",
       "      <td>Only 1 left in stock.</td>\n",
       "    </tr>\n",
       "    <tr>\n",
       "      <th>887</th>\n",
       "      <td>Vivo V5s (Matte Black)</td>\n",
       "      <td>4.1 out of 5 stars</td>\n",
       "      <td>631</td>\n",
       "      <td>₹16,990</td>\n",
       "      <td>₹20,990</td>\n",
       "      <td>Save ₹4,000 (19%)</td>\n",
       "      <td>Paid</td>\n",
       "      <td>Only 1 left in stock.</td>\n",
       "    </tr>\n",
       "    <tr>\n",
       "      <th>894</th>\n",
       "      <td>Quickshel M16 BIS Approved MP3 Playback Blueto...</td>\n",
       "      <td>4.0 out of 5 stars</td>\n",
       "      <td>1</td>\n",
       "      <td>₹1,000</td>\n",
       "      <td>₹1,099</td>\n",
       "      <td>Save ₹99 (9%)</td>\n",
       "      <td>FREE Delivery by Amazon</td>\n",
       "      <td>NaN</td>\n",
       "    </tr>\n",
       "    <tr>\n",
       "      <th>938</th>\n",
       "      <td>Nillkin for Samsung Galaxy S21 Plus Case, CamS...</td>\n",
       "      <td>5.0 out of 5 stars</td>\n",
       "      <td>6</td>\n",
       "      <td>₹1,049</td>\n",
       "      <td>₹2,999</td>\n",
       "      <td>Save ₹1,950 (65%)</td>\n",
       "      <td>Paid</td>\n",
       "      <td>NaN</td>\n",
       "    </tr>\n",
       "    <tr>\n",
       "      <th>946</th>\n",
       "      <td>New Apple iPhone 12 Pro (512GB) - Gold with Ap...</td>\n",
       "      <td>4.6 out of 5 stars</td>\n",
       "      <td>576</td>\n",
       "      <td>₹1,44,800</td>\n",
       "      <td>₹1,54,800</td>\n",
       "      <td>Save ₹10,000 (6%)</td>\n",
       "      <td>Paid</td>\n",
       "      <td>NaN</td>\n",
       "    </tr>\n",
       "    <tr>\n",
       "      <th>949</th>\n",
       "      <td>Vivo V20 (Sunset Melody, 8GB RAM, 256GB Storag...</td>\n",
       "      <td>4.3 out of 5 stars</td>\n",
       "      <td>1,868</td>\n",
       "      <td>NaN</td>\n",
       "      <td>NaN</td>\n",
       "      <td>NaN</td>\n",
       "      <td>Paid</td>\n",
       "      <td>NaN</td>\n",
       "    </tr>\n",
       "    <tr>\n",
       "      <th>954</th>\n",
       "      <td>India Gadgets - Armor X7 Pro Rugged Android Mo...</td>\n",
       "      <td>4.4 out of 5 stars</td>\n",
       "      <td>3</td>\n",
       "      <td>₹16,250</td>\n",
       "      <td>₹22,500</td>\n",
       "      <td>Save ₹6,250 (28%)</td>\n",
       "      <td>First Order Free Delivery</td>\n",
       "      <td>NaN</td>\n",
       "    </tr>\n",
       "    <tr>\n",
       "      <th>955</th>\n",
       "      <td>Kechaoda K-55 Plus Slim Mobile Phone with Came...</td>\n",
       "      <td>5.0 out of 5 stars</td>\n",
       "      <td>1</td>\n",
       "      <td>₹1,099</td>\n",
       "      <td>₹1,399</td>\n",
       "      <td>Save ₹300 (21%)</td>\n",
       "      <td>Paid</td>\n",
       "      <td>NaN</td>\n",
       "    </tr>\n",
       "    <tr>\n",
       "      <th>1009</th>\n",
       "      <td>New Apple iPhone 12 Pro (128GB) - Silver with ...</td>\n",
       "      <td>4.6 out of 5 stars</td>\n",
       "      <td>576</td>\n",
       "      <td>₹1,13,300</td>\n",
       "      <td>₹1,21,800</td>\n",
       "      <td>Save ₹8,500 (6%)</td>\n",
       "      <td>Paid</td>\n",
       "      <td>NaN</td>\n",
       "    </tr>\n",
       "    <tr>\n",
       "      <th>1011</th>\n",
       "      <td>Mi Xiaomi MI Redmi Note 7S 4GB/64 GB Moonlight...</td>\n",
       "      <td>4.3 out of 5 stars</td>\n",
       "      <td>63</td>\n",
       "      <td>₹13,499</td>\n",
       "      <td>₹13,999</td>\n",
       "      <td>Save ₹500 (4%)</td>\n",
       "      <td>FREE Delivery by Amazon</td>\n",
       "      <td>Only 1 left in stock.</td>\n",
       "    </tr>\n",
       "    <tr>\n",
       "      <th>1023</th>\n",
       "      <td>Blackview India s - BV9900E Mobile Phone: 6Gb ...</td>\n",
       "      <td>5.0 out of 5 stars</td>\n",
       "      <td>1</td>\n",
       "      <td>₹34,800</td>\n",
       "      <td>₹38,000</td>\n",
       "      <td>Save ₹3,200 (8%)</td>\n",
       "      <td>First Order Free Delivery</td>\n",
       "      <td>NaN</td>\n",
       "    </tr>\n",
       "    <tr>\n",
       "      <th>1033</th>\n",
       "      <td>IKALL K60 Gold Series Multimedia Feature Keypa...</td>\n",
       "      <td>4.6 out of 5 stars</td>\n",
       "      <td>3</td>\n",
       "      <td>₹1,999</td>\n",
       "      <td>₹2,999</td>\n",
       "      <td>Save ₹1,000 (33%)</td>\n",
       "      <td>Paid</td>\n",
       "      <td>NaN</td>\n",
       "    </tr>\n",
       "    <tr>\n",
       "      <th>1039</th>\n",
       "      <td>Nillkin Case for Xiaomi Mi 11X 11 X / 11X Pro/...</td>\n",
       "      <td>4.0 out of 5 stars</td>\n",
       "      <td>1</td>\n",
       "      <td>₹1,299</td>\n",
       "      <td>₹2,499</td>\n",
       "      <td>Save ₹1,200 (48%)</td>\n",
       "      <td>FREE Delivery by Amazon</td>\n",
       "      <td>Only 1 left in stock.</td>\n",
       "    </tr>\n",
       "    <tr>\n",
       "      <th>1103</th>\n",
       "      <td>Vivo Y20G 2021 (Purist Blue, 4GB RAM, 64GB Sto...</td>\n",
       "      <td>4.1 out of 5 stars</td>\n",
       "      <td>139</td>\n",
       "      <td>NaN</td>\n",
       "      <td>NaN</td>\n",
       "      <td>NaN</td>\n",
       "      <td>Paid</td>\n",
       "      <td>NaN</td>\n",
       "    </tr>\n",
       "    <tr>\n",
       "      <th>1104</th>\n",
       "      <td>Nillkin Screen Guard for Apple iPhone Xs (5.8\"...</td>\n",
       "      <td>5.0 out of 5 stars</td>\n",
       "      <td>1</td>\n",
       "      <td>₹799</td>\n",
       "      <td>₹999</td>\n",
       "      <td>Save ₹200 (20%)</td>\n",
       "      <td>FREE Delivery by Amazon</td>\n",
       "      <td>Only 1 left in stock.</td>\n",
       "    </tr>\n",
       "    <tr>\n",
       "      <th>1105</th>\n",
       "      <td>New Apple iPhone 12 (128GB) - White with Apple...</td>\n",
       "      <td>4.6 out of 5 stars</td>\n",
       "      <td>4,260</td>\n",
       "      <td>₹83,850</td>\n",
       "      <td>₹89,800</td>\n",
       "      <td>Save ₹5,950 (6%)</td>\n",
       "      <td>Paid</td>\n",
       "      <td>NaN</td>\n",
       "    </tr>\n",
       "    <tr>\n",
       "      <th>1151</th>\n",
       "      <td>Nillkin Nature Series Transparent Silicone TPU...</td>\n",
       "      <td>4.0 out of 5 stars</td>\n",
       "      <td>2</td>\n",
       "      <td>₹750</td>\n",
       "      <td>₹1,299</td>\n",
       "      <td>Save ₹549 (42%)</td>\n",
       "      <td>Paid</td>\n",
       "      <td>Only 1 left in stock.</td>\n",
       "    </tr>\n",
       "    <tr>\n",
       "      <th>1152</th>\n",
       "      <td>Nillkin Case for LG V40 V 40 ThinQ Super Frost...</td>\n",
       "      <td>5.0 out of 5 stars</td>\n",
       "      <td>1</td>\n",
       "      <td>₹1,289</td>\n",
       "      <td>₹1,499</td>\n",
       "      <td>Save ₹210 (14%)</td>\n",
       "      <td>First Order Free Delivery</td>\n",
       "      <td>Only 1 left in stock.</td>\n",
       "    </tr>\n",
       "    <tr>\n",
       "      <th>1175</th>\n",
       "      <td>Nillkin Polycarbonate Compatible with Magnetic...</td>\n",
       "      <td>4.6 out of 5 stars</td>\n",
       "      <td>41</td>\n",
       "      <td>₹3,999</td>\n",
       "      <td>₹5,999</td>\n",
       "      <td>Save ₹2,000 (33%)</td>\n",
       "      <td>First Order Free Delivery</td>\n",
       "      <td>NaN</td>\n",
       "    </tr>\n",
       "    <tr>\n",
       "      <th>1176</th>\n",
       "      <td>(Renewed) OPPO Reno 2 (Ocean Blue, 8GB RAM, 25...</td>\n",
       "      <td>4.1 out of 5 stars</td>\n",
       "      <td>59</td>\n",
       "      <td>₹24,999</td>\n",
       "      <td>₹39,999</td>\n",
       "      <td>Save ₹15,000 (38%)</td>\n",
       "      <td>FREE Delivery by Amazon</td>\n",
       "      <td>Only 1 left in stock.</td>\n",
       "    </tr>\n",
       "    <tr>\n",
       "      <th>1220</th>\n",
       "      <td>Nillkin Case for Xiaomi Mi 11X 11 X / 11X Pro/...</td>\n",
       "      <td>5.0 out of 5 stars</td>\n",
       "      <td>1</td>\n",
       "      <td>₹1,699</td>\n",
       "      <td>₹1,799</td>\n",
       "      <td>Save ₹100 (6%)</td>\n",
       "      <td>FREE Delivery by Amazon</td>\n",
       "      <td>Only 1 left in stock.</td>\n",
       "    </tr>\n",
       "    <tr>\n",
       "      <th>1223</th>\n",
       "      <td>Beetel M60 Corded Phone (Black)</td>\n",
       "      <td>4.4 out of 5 stars</td>\n",
       "      <td>7</td>\n",
       "      <td>₹1,477</td>\n",
       "      <td>₹1,590</td>\n",
       "      <td>Save ₹113 (7%)</td>\n",
       "      <td>FREE Delivery by Amazon</td>\n",
       "      <td>More Buying Choices</td>\n",
       "    </tr>\n",
       "    <tr>\n",
       "      <th>1224</th>\n",
       "      <td>Nillkin Case for Xiaomi Mi 11X 11 X / 11X Pro/...</td>\n",
       "      <td>5.0 out of 5 stars</td>\n",
       "      <td>1</td>\n",
       "      <td>₹1,699</td>\n",
       "      <td>₹1,799</td>\n",
       "      <td>Save ₹100 (6%)</td>\n",
       "      <td>FREE Delivery by Amazon</td>\n",
       "      <td>Only 1 left in stock.</td>\n",
       "    </tr>\n",
       "    <tr>\n",
       "      <th>1225</th>\n",
       "      <td>KECHAODA K50 Dual Sim, Black</td>\n",
       "      <td>5.0 out of 5 stars</td>\n",
       "      <td>1</td>\n",
       "      <td>₹1,199</td>\n",
       "      <td>NaN</td>\n",
       "      <td>Get it</td>\n",
       "      <td>Paid</td>\n",
       "      <td>Only 1 left in stock.</td>\n",
       "    </tr>\n",
       "    <tr>\n",
       "      <th>1226</th>\n",
       "      <td>Nillkin Super Frosted Shield Pro Magnetic Hard...</td>\n",
       "      <td>5.0 out of 5 stars</td>\n",
       "      <td>2</td>\n",
       "      <td>₹1,799</td>\n",
       "      <td>₹3,999</td>\n",
       "      <td>Save ₹2,200 (55%)</td>\n",
       "      <td>FREE Delivery by Amazon</td>\n",
       "      <td>Only 1 left in stock.</td>\n",
       "    </tr>\n",
       "    <tr>\n",
       "      <th>1280</th>\n",
       "      <td>Nillkin Case for Apple iPhone 11 Pro Max (6.5\"...</td>\n",
       "      <td>4.5 out of 5 stars</td>\n",
       "      <td>2</td>\n",
       "      <td>NaN</td>\n",
       "      <td>NaN</td>\n",
       "      <td>NaN</td>\n",
       "      <td>Paid</td>\n",
       "      <td>NaN</td>\n",
       "    </tr>\n",
       "  </tbody>\n",
       "</table>\n",
       "</div>"
      ],
      "text/plain": [
       "                                             Smartphone              Rating  \\\n",
       "144   Nokia 3310 Dual SIM Feature Phone with MP3 Pla...  4.2 out of 5 stars   \n",
       "145                  Samsung Metro 313 (SM-B313E, Grey)  4.1 out of 5 stars   \n",
       "192   Nokia 3310 Dual SIM Feature Phone with MP3 Pla...  4.2 out of 5 stars   \n",
       "312   Samsung Galaxy A72 (Black, 8GB RAM, 128GB Stor...  4.2 out of 5 stars   \n",
       "336      New Apple iPhone 12 Pro (256GB) - Pacific Blue  4.6 out of 5 stars   \n",
       "416   Mi Redmi 8 Smartphone (Onyx Black, 4GB RAM, 64...  4.1 out of 5 stars   \n",
       "417              Honor 7A (Blue, 3GB RAM, 32GB Storage)  4.7 out of 5 stars   \n",
       "438                        Kechaoda K55+ (Silver, 32GB)  4.1 out of 5 stars   \n",
       "441   I KALL K48 Keypad Mobile (1.8 Inch, Big Batter...  4.4 out of 5 stars   \n",
       "442   Vivo U20 (Racing Black, Snapdragon 675 AIE, 4G...  4.3 out of 5 stars   \n",
       "456     Redmi 9i (Nature Green, 4GB RAM, 128GB Storage)  4.1 out of 5 stars   \n",
       "484             Mi Max 2 (Black, 4GB RAM, 64GB Storage)  4.3 out of 5 stars   \n",
       "491   (Renewed) Redmi Note 7 Pro (Nebula Red, 64GB, ...  4.0 out of 5 stars   \n",
       "504     MI Poco X3 (Cobalt Blue, 8GB RAM / 128 Storage)  4.2 out of 5 stars   \n",
       "529              Redmi 6 (Black, 3GB RAM, 32GB Storage)  4.1 out of 5 stars   \n",
       "530   Vivo Y72 5G (Prism Magic, 8GB RAM, 128GB Stora...  4.0 out of 5 stars   \n",
       "543   Redmi Xiaomi Note 7 Pro Phone (Neptune Blue, 4...  4.2 out of 5 stars   \n",
       "546   Nillkin Super Frosted Hard PC Back Case Cover ...  4.4 out of 5 stars   \n",
       "552             Note 7 Pro (Space Black, 64GB, 4GB RAM)  4.2 out of 5 stars   \n",
       "555     Lava Gem Wave Big Screen Dual SIM KEYPAD Mobile  4.2 out of 5 stars   \n",
       "581                Mi A2 (Blue, 6GB RAM, 128GB Storage)  4.0 out of 5 stars   \n",
       "600   Nillkin Case for Samsung Galaxy S10 S 10 Lite ...  5.0 out of 5 stars   \n",
       "601   Kechaoda A6 Tripple Sim 3.5\" Inch Large Screen...  5.0 out of 5 stars   \n",
       "602    MI Poco X3 (Cobalt Blue, 6GB RAM / 64GB Storage)  4.2 out of 5 stars   \n",
       "603   Vivo Y72 5G (Slate Gray, 8GB RAM, 128GB Storag...  4.0 out of 5 stars   \n",
       "604   TECNO Spark 7T(Magnet Black, 4GB RAM,64GB Stor...  4.0 out of 5 stars   \n",
       "608    Redmi Note 7 (Onyx Black, 4GB RAM, 64GB Storage)  4.3 out of 5 stars   \n",
       "624   Nillkin Slim Frosted Anti-Falling Anti Fingerp...  5.0 out of 5 stars   \n",
       "631   Samsung Galaxy A31 (Prism Crush Black, 6GB RAM...  4.2 out of 5 stars   \n",
       "659                Tecno Pova (4GB,64GB) (Speed Purple)  4.1 out of 5 stars   \n",
       "688   (Renewed) Vivo Y91i (Ocean Blue, 2GB RAM, 32GB...  4.2 out of 5 stars   \n",
       "887                              Vivo V5s (Matte Black)  4.1 out of 5 stars   \n",
       "894   Quickshel M16 BIS Approved MP3 Playback Blueto...  4.0 out of 5 stars   \n",
       "938   Nillkin for Samsung Galaxy S21 Plus Case, CamS...  5.0 out of 5 stars   \n",
       "946   New Apple iPhone 12 Pro (512GB) - Gold with Ap...  4.6 out of 5 stars   \n",
       "949   Vivo V20 (Sunset Melody, 8GB RAM, 256GB Storag...  4.3 out of 5 stars   \n",
       "954   India Gadgets - Armor X7 Pro Rugged Android Mo...  4.4 out of 5 stars   \n",
       "955   Kechaoda K-55 Plus Slim Mobile Phone with Came...  5.0 out of 5 stars   \n",
       "1009  New Apple iPhone 12 Pro (128GB) - Silver with ...  4.6 out of 5 stars   \n",
       "1011  Mi Xiaomi MI Redmi Note 7S 4GB/64 GB Moonlight...  4.3 out of 5 stars   \n",
       "1023  Blackview India s - BV9900E Mobile Phone: 6Gb ...  5.0 out of 5 stars   \n",
       "1033  IKALL K60 Gold Series Multimedia Feature Keypa...  4.6 out of 5 stars   \n",
       "1039  Nillkin Case for Xiaomi Mi 11X 11 X / 11X Pro/...  4.0 out of 5 stars   \n",
       "1103  Vivo Y20G 2021 (Purist Blue, 4GB RAM, 64GB Sto...  4.1 out of 5 stars   \n",
       "1104  Nillkin Screen Guard for Apple iPhone Xs (5.8\"...  5.0 out of 5 stars   \n",
       "1105  New Apple iPhone 12 (128GB) - White with Apple...  4.6 out of 5 stars   \n",
       "1151  Nillkin Nature Series Transparent Silicone TPU...  4.0 out of 5 stars   \n",
       "1152  Nillkin Case for LG V40 V 40 ThinQ Super Frost...  5.0 out of 5 stars   \n",
       "1175  Nillkin Polycarbonate Compatible with Magnetic...  4.6 out of 5 stars   \n",
       "1176  (Renewed) OPPO Reno 2 (Ocean Blue, 8GB RAM, 25...  4.1 out of 5 stars   \n",
       "1220  Nillkin Case for Xiaomi Mi 11X 11 X / 11X Pro/...  5.0 out of 5 stars   \n",
       "1223                    Beetel M60 Corded Phone (Black)  4.4 out of 5 stars   \n",
       "1224  Nillkin Case for Xiaomi Mi 11X 11 X / 11X Pro/...  5.0 out of 5 stars   \n",
       "1225                       KECHAODA K50 Dual Sim, Black  5.0 out of 5 stars   \n",
       "1226  Nillkin Super Frosted Shield Pro Magnetic Hard...  5.0 out of 5 stars   \n",
       "1280  Nillkin Case for Apple iPhone 11 Pro Max (6.5\"...  4.5 out of 5 stars   \n",
       "\n",
       "     Reviews count Offer price Actual price              Saving  \\\n",
       "144         12,691      ₹4,006       ₹4,399      Save ₹393 (9%)   \n",
       "145          7,398      ₹2,340          NaN           Get it by   \n",
       "192         12,691      ₹4,290       ₹4,399      Save ₹109 (2%)   \n",
       "312            466     ₹34,999      ₹41,999   Save ₹7,000 (17%)   \n",
       "336            576   ₹1,18,900    ₹1,29,900   Save ₹11,000 (8%)   \n",
       "416          1,070     ₹10,850      ₹12,999   Save ₹2,149 (17%)   \n",
       "417              3      ₹8,999      ₹10,999   Save ₹2,000 (18%)   \n",
       "438            109        ₹999       ₹1,299     Save ₹300 (23%)   \n",
       "441              5        ₹719         ₹999     Save ₹280 (28%)   \n",
       "442         22,750         NaN          NaN                 NaN   \n",
       "456          1,370         NaN          NaN                 NaN   \n",
       "484          5,014     ₹16,999      ₹17,999    Save ₹1,000 (6%)   \n",
       "491             28      ₹9,849      ₹15,999   Save ₹6,150 (38%)   \n",
       "504            269     ₹22,999          NaN           Get it by   \n",
       "529         14,007      ₹8,999          NaN           Get it by   \n",
       "530            153     ₹21,689      ₹25,689   Save ₹4,000 (15%)   \n",
       "543            752     ₹14,980      ₹15,999    Save ₹1,019 (6%)   \n",
       "546             40        ₹499         ₹990     Save ₹491 (50%)   \n",
       "552            971         NaN          NaN                 NaN   \n",
       "555             18      ₹1,849       ₹1,899       Save ₹50 (3%)   \n",
       "581         45,901     ₹19,990      ₹20,500      Save ₹510 (2%)   \n",
       "600              2        ₹743       ₹1,499     Save ₹756 (50%)   \n",
       "601              1      ₹1,549       ₹1,990     Save ₹441 (22%)   \n",
       "602            269         NaN          NaN                 NaN   \n",
       "603            153     ₹21,689      ₹25,689   Save ₹4,000 (15%)   \n",
       "604          4,611     ₹11,498      ₹12,998   Save ₹1,500 (11%)   \n",
       "608            561     ₹14,990          NaN           Get it by   \n",
       "624              6        ₹525       ₹1,999   Save ₹1,474 (74%)   \n",
       "631          2,236         NaN          NaN                 NaN   \n",
       "659             15  ₹11,576.25      ₹11,999   Save ₹422.75 (4%)   \n",
       "688              5      ₹6,999       ₹8,490   Save ₹1,491 (17%)   \n",
       "887            631     ₹16,990      ₹20,990   Save ₹4,000 (19%)   \n",
       "894              1      ₹1,000       ₹1,099       Save ₹99 (9%)   \n",
       "938              6      ₹1,049       ₹2,999   Save ₹1,950 (65%)   \n",
       "946            576   ₹1,44,800    ₹1,54,800   Save ₹10,000 (6%)   \n",
       "949          1,868         NaN          NaN                 NaN   \n",
       "954              3     ₹16,250      ₹22,500   Save ₹6,250 (28%)   \n",
       "955              1      ₹1,099       ₹1,399     Save ₹300 (21%)   \n",
       "1009           576   ₹1,13,300    ₹1,21,800    Save ₹8,500 (6%)   \n",
       "1011            63     ₹13,499      ₹13,999      Save ₹500 (4%)   \n",
       "1023             1     ₹34,800      ₹38,000    Save ₹3,200 (8%)   \n",
       "1033             3      ₹1,999       ₹2,999   Save ₹1,000 (33%)   \n",
       "1039             1      ₹1,299       ₹2,499   Save ₹1,200 (48%)   \n",
       "1103           139         NaN          NaN                 NaN   \n",
       "1104             1        ₹799         ₹999     Save ₹200 (20%)   \n",
       "1105         4,260     ₹83,850      ₹89,800    Save ₹5,950 (6%)   \n",
       "1151             2        ₹750       ₹1,299     Save ₹549 (42%)   \n",
       "1152             1      ₹1,289       ₹1,499     Save ₹210 (14%)   \n",
       "1175            41      ₹3,999       ₹5,999   Save ₹2,000 (33%)   \n",
       "1176            59     ₹24,999      ₹39,999  Save ₹15,000 (38%)   \n",
       "1220             1      ₹1,699       ₹1,799      Save ₹100 (6%)   \n",
       "1223             7      ₹1,477       ₹1,590      Save ₹113 (7%)   \n",
       "1224             1      ₹1,699       ₹1,799      Save ₹100 (6%)   \n",
       "1225             1      ₹1,199          NaN              Get it   \n",
       "1226             2      ₹1,799       ₹3,999   Save ₹2,200 (55%)   \n",
       "1280             2         NaN          NaN                 NaN   \n",
       "\n",
       "                       Delivery Status of stock & more offers  \n",
       "144     FREE Delivery by Amazon           More Buying Choices  \n",
       "145                        Paid                           NaN  \n",
       "192     FREE Delivery by Amazon                           NaN  \n",
       "312     FREE Delivery by Amazon                           NaN  \n",
       "336     FREE Delivery by Amazon                           NaN  \n",
       "416                        Paid         Only 2 left in stock.  \n",
       "417     FREE Delivery by Amazon                           NaN  \n",
       "438     FREE Delivery by Amazon           More Buying Choices  \n",
       "441                        Paid                           NaN  \n",
       "442                        Paid                           NaN  \n",
       "456                        Paid                           NaN  \n",
       "484     FREE Delivery by Amazon           More Buying Choices  \n",
       "491     FREE Delivery by Amazon         Only 1 left in stock.  \n",
       "504                        Paid                           NaN  \n",
       "529                        Paid         Only 1 left in stock.  \n",
       "530                        Paid                           NaN  \n",
       "543                        Paid         Only 1 left in stock.  \n",
       "546     FREE Delivery by Amazon           More Buying Choices  \n",
       "552                        Paid                           NaN  \n",
       "555                        Paid                           NaN  \n",
       "581     FREE Delivery by Amazon         Only 2 left in stock.  \n",
       "600                        Paid           More Buying Choices  \n",
       "601                        Paid                           NaN  \n",
       "602                        Paid                           NaN  \n",
       "603                        Paid                           NaN  \n",
       "604                        Paid                           NaN  \n",
       "608                        Paid         Only 2 left in stock.  \n",
       "624     FREE Delivery by Amazon                           NaN  \n",
       "631                        Paid                           NaN  \n",
       "659   First Order Free Delivery           More Buying Choices  \n",
       "688                        Paid         Only 1 left in stock.  \n",
       "887                        Paid         Only 1 left in stock.  \n",
       "894     FREE Delivery by Amazon                           NaN  \n",
       "938                        Paid                           NaN  \n",
       "946                        Paid                           NaN  \n",
       "949                        Paid                           NaN  \n",
       "954   First Order Free Delivery                           NaN  \n",
       "955                        Paid                           NaN  \n",
       "1009                       Paid                           NaN  \n",
       "1011    FREE Delivery by Amazon         Only 1 left in stock.  \n",
       "1023  First Order Free Delivery                           NaN  \n",
       "1033                       Paid                           NaN  \n",
       "1039    FREE Delivery by Amazon         Only 1 left in stock.  \n",
       "1103                       Paid                           NaN  \n",
       "1104    FREE Delivery by Amazon         Only 1 left in stock.  \n",
       "1105                       Paid                           NaN  \n",
       "1151                       Paid         Only 1 left in stock.  \n",
       "1152  First Order Free Delivery         Only 1 left in stock.  \n",
       "1175  First Order Free Delivery                           NaN  \n",
       "1176    FREE Delivery by Amazon         Only 1 left in stock.  \n",
       "1220    FREE Delivery by Amazon         Only 1 left in stock.  \n",
       "1223    FREE Delivery by Amazon           More Buying Choices  \n",
       "1224    FREE Delivery by Amazon         Only 1 left in stock.  \n",
       "1225                       Paid         Only 1 left in stock.  \n",
       "1226    FREE Delivery by Amazon         Only 1 left in stock.  \n",
       "1280                       Paid                           NaN  "
      ]
     },
     "execution_count": 9,
     "metadata": {},
     "output_type": "execute_result"
    }
   ],
   "source": [
    "df[df.duplicated()]"
   ]
  },
  {
   "cell_type": "code",
   "execution_count": 10,
   "id": "5fee4740",
   "metadata": {},
   "outputs": [
    {
     "data": {
      "text/plain": [
       "56"
      ]
     },
     "execution_count": 10,
     "metadata": {},
     "output_type": "execute_result"
    }
   ],
   "source": [
    "len(df[df.duplicated()])"
   ]
  },
  {
   "cell_type": "code",
   "execution_count": 11,
   "id": "e30320f4",
   "metadata": {},
   "outputs": [],
   "source": [
    "#Removing Duplicates\n",
    "df.drop_duplicates(keep='first',inplace=True)"
   ]
  },
  {
   "cell_type": "code",
   "execution_count": 12,
   "id": "a677a6ee",
   "metadata": {},
   "outputs": [
    {
     "data": {
      "text/plain": [
       "0"
      ]
     },
     "execution_count": 12,
     "metadata": {},
     "output_type": "execute_result"
    }
   ],
   "source": [
    "## Check for duplicate values again\n",
    "len(df[df.duplicated()])"
   ]
  },
  {
   "cell_type": "markdown",
   "id": "e925936c",
   "metadata": {},
   "source": [
    "### After identifying 56 duplicated rows, we successfully removed them from the dataset."
   ]
  },
  {
   "cell_type": "markdown",
   "id": "0a2d03a7",
   "metadata": {},
   "source": [
    "### Q5. Removing unwanted characters and changing the datatype"
   ]
  },
  {
   "cell_type": "code",
   "execution_count": 13,
   "id": "a0ad30b9",
   "metadata": {},
   "outputs": [
    {
     "data": {
      "text/html": [
       "<div>\n",
       "<style scoped>\n",
       "    .dataframe tbody tr th:only-of-type {\n",
       "        vertical-align: middle;\n",
       "    }\n",
       "\n",
       "    .dataframe tbody tr th {\n",
       "        vertical-align: top;\n",
       "    }\n",
       "\n",
       "    .dataframe thead th {\n",
       "        text-align: right;\n",
       "    }\n",
       "</style>\n",
       "<table border=\"1\" class=\"dataframe\">\n",
       "  <thead>\n",
       "    <tr style=\"text-align: right;\">\n",
       "      <th></th>\n",
       "      <th>Smartphone</th>\n",
       "      <th>Rating</th>\n",
       "      <th>Reviews count</th>\n",
       "      <th>Offer price</th>\n",
       "      <th>Actual price</th>\n",
       "      <th>Saving</th>\n",
       "      <th>Delivery</th>\n",
       "      <th>Status of stock &amp; more offers</th>\n",
       "    </tr>\n",
       "  </thead>\n",
       "  <tbody>\n",
       "    <tr>\n",
       "      <th>0</th>\n",
       "      <td>Redmi 9 (Sky Blue, 4GB RAM, 64GB Storage) | 2....</td>\n",
       "      <td>4.2 out of 5 stars</td>\n",
       "      <td>87,809</td>\n",
       "      <td>₹9,499</td>\n",
       "      <td>₹10,999</td>\n",
       "      <td>Save ₹1,500 (14%)</td>\n",
       "      <td>FREE Delivery by Amazon</td>\n",
       "      <td>NaN</td>\n",
       "    </tr>\n",
       "    <tr>\n",
       "      <th>1</th>\n",
       "      <td>Redmi 9A (Nature Green, 2GB RAM, 32GB Storage)...</td>\n",
       "      <td>4.2 out of 5 stars</td>\n",
       "      <td>74,587</td>\n",
       "      <td>₹6,999</td>\n",
       "      <td>₹8,499</td>\n",
       "      <td>Save ₹1,500 (18%)</td>\n",
       "      <td>FREE Delivery by Amazon</td>\n",
       "      <td>NaN</td>\n",
       "    </tr>\n",
       "  </tbody>\n",
       "</table>\n",
       "</div>"
      ],
      "text/plain": [
       "                                          Smartphone              Rating  \\\n",
       "0  Redmi 9 (Sky Blue, 4GB RAM, 64GB Storage) | 2....  4.2 out of 5 stars   \n",
       "1  Redmi 9A (Nature Green, 2GB RAM, 32GB Storage)...  4.2 out of 5 stars   \n",
       "\n",
       "  Reviews count Offer price Actual price             Saving  \\\n",
       "0        87,809      ₹9,499      ₹10,999  Save ₹1,500 (14%)   \n",
       "1        74,587      ₹6,999       ₹8,499  Save ₹1,500 (18%)   \n",
       "\n",
       "                  Delivery Status of stock & more offers  \n",
       "0  FREE Delivery by Amazon                           NaN  \n",
       "1  FREE Delivery by Amazon                           NaN  "
      ]
     },
     "execution_count": 13,
     "metadata": {},
     "output_type": "execute_result"
    }
   ],
   "source": [
    "df.head(2)"
   ]
  },
  {
   "cell_type": "markdown",
   "id": "5b1bcf68",
   "metadata": {},
   "source": [
    "### INFERNECE: \n",
    "#### The following observations can be made:\n",
    "    1. The Rating column can be converted to numeric by extracting the rating value from it.\n",
    "    2. The Review count can be converted to numeric by removing commas from the values.\n",
    "    3. The Price columns can be converted to numeric by removing commas and rupee signs from the values.\n",
    "    4. The Saving column can be analyzed to extract the saving value or percentage and convert it to numeric."
   ]
  },
  {
   "cell_type": "markdown",
   "id": "a725740e",
   "metadata": {},
   "source": [
    "### RATING COLUMN"
   ]
  },
  {
   "cell_type": "code",
   "execution_count": 14,
   "id": "82da1403",
   "metadata": {},
   "outputs": [],
   "source": [
    "## Splitting the string and Retreving the numeric value and converting the 'feature rating' to float datatype.\n",
    "df['Rating'] = df['Rating'].str.split(' ').str.get(0).astype(float)"
   ]
  },
  {
   "cell_type": "code",
   "execution_count": 15,
   "id": "24cf2108",
   "metadata": {},
   "outputs": [
    {
     "data": {
      "text/html": [
       "<div>\n",
       "<style scoped>\n",
       "    .dataframe tbody tr th:only-of-type {\n",
       "        vertical-align: middle;\n",
       "    }\n",
       "\n",
       "    .dataframe tbody tr th {\n",
       "        vertical-align: top;\n",
       "    }\n",
       "\n",
       "    .dataframe thead th {\n",
       "        text-align: right;\n",
       "    }\n",
       "</style>\n",
       "<table border=\"1\" class=\"dataframe\">\n",
       "  <thead>\n",
       "    <tr style=\"text-align: right;\">\n",
       "      <th></th>\n",
       "      <th>Smartphone</th>\n",
       "      <th>Rating</th>\n",
       "      <th>Reviews count</th>\n",
       "      <th>Offer price</th>\n",
       "      <th>Actual price</th>\n",
       "      <th>Saving</th>\n",
       "      <th>Delivery</th>\n",
       "      <th>Status of stock &amp; more offers</th>\n",
       "    </tr>\n",
       "  </thead>\n",
       "  <tbody>\n",
       "    <tr>\n",
       "      <th>0</th>\n",
       "      <td>Redmi 9 (Sky Blue, 4GB RAM, 64GB Storage) | 2....</td>\n",
       "      <td>4.2</td>\n",
       "      <td>87,809</td>\n",
       "      <td>₹9,499</td>\n",
       "      <td>₹10,999</td>\n",
       "      <td>Save ₹1,500 (14%)</td>\n",
       "      <td>FREE Delivery by Amazon</td>\n",
       "      <td>NaN</td>\n",
       "    </tr>\n",
       "  </tbody>\n",
       "</table>\n",
       "</div>"
      ],
      "text/plain": [
       "                                          Smartphone  Rating Reviews count  \\\n",
       "0  Redmi 9 (Sky Blue, 4GB RAM, 64GB Storage) | 2....     4.2        87,809   \n",
       "\n",
       "  Offer price Actual price             Saving                 Delivery  \\\n",
       "0      ₹9,499      ₹10,999  Save ₹1,500 (14%)  FREE Delivery by Amazon   \n",
       "\n",
       "  Status of stock & more offers  \n",
       "0                           NaN  "
      ]
     },
     "execution_count": 15,
     "metadata": {},
     "output_type": "execute_result"
    }
   ],
   "source": [
    "df.head(1)"
   ]
  },
  {
   "cell_type": "code",
   "execution_count": 16,
   "id": "4ecc86be",
   "metadata": {},
   "outputs": [
    {
     "data": {
      "text/plain": [
       "dtype('float64')"
      ]
     },
     "execution_count": 16,
     "metadata": {},
     "output_type": "execute_result"
    }
   ],
   "source": [
    "df.Rating.dtype"
   ]
  },
  {
   "cell_type": "markdown",
   "id": "9e1b75ee",
   "metadata": {},
   "source": [
    "### REVIEWS COUNT"
   ]
  },
  {
   "cell_type": "code",
   "execution_count": 17,
   "id": "74db47b8",
   "metadata": {},
   "outputs": [],
   "source": [
    "## Replacing comma and converting feature 'Reviews count' as integer.\n",
    "df['Reviews count'] = df['Reviews count'].str.replace(',','').astype(int)"
   ]
  },
  {
   "cell_type": "code",
   "execution_count": 18,
   "id": "2b7194a2",
   "metadata": {},
   "outputs": [
    {
     "data": {
      "text/plain": [
       "dtype('int32')"
      ]
     },
     "execution_count": 18,
     "metadata": {},
     "output_type": "execute_result"
    }
   ],
   "source": [
    "df['Reviews count'].dtype"
   ]
  },
  {
   "cell_type": "markdown",
   "id": "f61b4942",
   "metadata": {},
   "source": [
    "### OFFER PRICE"
   ]
  },
  {
   "cell_type": "code",
   "execution_count": 19,
   "id": "b0f2e23e",
   "metadata": {},
   "outputs": [],
   "source": [
    "## Replacing comma and '₹' and converting feature 'Offer price' as integer.\n",
    "df['Offer price'] = df['Offer price'].str.replace(',','')\n",
    "df['Offer price'] = df['Offer price'].str.replace('₹','')\n",
    "df['Offer price'] = df['Offer price'].str.replace('.','')\n",
    "\n",
    "## Note:- Since feature offer price is having null values, the nan values dtype will be float by default, if we try converting \n",
    "## datatype into integer it will throw an error, So converting only not null values into int.\n",
    "## After imputing null values we will convert those datatype also.\n",
    "df.loc[df['Offer price'].notnull(), 'Offer price'] = df.loc[df['Offer price'].notnull(), 'Offer price'].apply(int)"
   ]
  },
  {
   "cell_type": "markdown",
   "id": "157f3387",
   "metadata": {},
   "source": [
    "### ACTUAL PRICE"
   ]
  },
  {
   "cell_type": "code",
   "execution_count": 20,
   "id": "41608919",
   "metadata": {},
   "outputs": [],
   "source": [
    "## Replacing comma and '₹' and converting feature 'Actual price' as integer.\n",
    "df['Actual price'] = df['Actual price'].str.replace(',','')\n",
    "df['Actual price'] = df['Actual price'].str.replace('₹','')\n",
    "df['Actual price'] = df['Actual price'].str.replace('.','')\n",
    "\n",
    "df.loc[df['Actual price'].notnull(), 'Actual price'] = df.loc[df['Actual price'].notnull(), 'Actual price'].apply(int)"
   ]
  },
  {
   "cell_type": "markdown",
   "id": "90c85ba0",
   "metadata": {},
   "source": [
    "### SAVING"
   ]
  },
  {
   "cell_type": "code",
   "execution_count": 21,
   "id": "cb30437e",
   "metadata": {},
   "outputs": [],
   "source": [
    "## Splitting the string and retriveing the numeric value.\n",
    "df['Saving'] = df['Saving'].str.split(' ').str.get(1)\n",
    "\n",
    "## Replacing comma and '₹' and converting feature 'Actual price' as integer.\n",
    "df['Saving'] = df['Saving'].str.replace(',','')\n",
    "df['Saving'] = df['Saving'].str.replace('₹','')\n",
    "df['Saving'] = df['Saving'].str.replace('.','')\n",
    "df['Saving'] = df['Saving'].replace(['it','Delivery'],np.nan)\n",
    "\n",
    "df.loc[df['Saving'].notnull(), 'Saving'] = df.loc[df['Saving'].notnull(), 'Saving'].apply(int)"
   ]
  },
  {
   "cell_type": "code",
   "execution_count": 22,
   "id": "4c3e30c0",
   "metadata": {},
   "outputs": [
    {
     "data": {
      "text/html": [
       "<div>\n",
       "<style scoped>\n",
       "    .dataframe tbody tr th:only-of-type {\n",
       "        vertical-align: middle;\n",
       "    }\n",
       "\n",
       "    .dataframe tbody tr th {\n",
       "        vertical-align: top;\n",
       "    }\n",
       "\n",
       "    .dataframe thead th {\n",
       "        text-align: right;\n",
       "    }\n",
       "</style>\n",
       "<table border=\"1\" class=\"dataframe\">\n",
       "  <thead>\n",
       "    <tr style=\"text-align: right;\">\n",
       "      <th></th>\n",
       "      <th>Smartphone</th>\n",
       "      <th>Rating</th>\n",
       "      <th>Reviews count</th>\n",
       "      <th>Offer price</th>\n",
       "      <th>Actual price</th>\n",
       "      <th>Saving</th>\n",
       "      <th>Delivery</th>\n",
       "      <th>Status of stock &amp; more offers</th>\n",
       "    </tr>\n",
       "  </thead>\n",
       "  <tbody>\n",
       "    <tr>\n",
       "      <th>0</th>\n",
       "      <td>Redmi 9 (Sky Blue, 4GB RAM, 64GB Storage) | 2....</td>\n",
       "      <td>4.2</td>\n",
       "      <td>87809</td>\n",
       "      <td>9499</td>\n",
       "      <td>10999</td>\n",
       "      <td>1500</td>\n",
       "      <td>FREE Delivery by Amazon</td>\n",
       "      <td>NaN</td>\n",
       "    </tr>\n",
       "    <tr>\n",
       "      <th>1</th>\n",
       "      <td>Redmi 9A (Nature Green, 2GB RAM, 32GB Storage)...</td>\n",
       "      <td>4.2</td>\n",
       "      <td>74587</td>\n",
       "      <td>6999</td>\n",
       "      <td>8499</td>\n",
       "      <td>1500</td>\n",
       "      <td>FREE Delivery by Amazon</td>\n",
       "      <td>NaN</td>\n",
       "    </tr>\n",
       "  </tbody>\n",
       "</table>\n",
       "</div>"
      ],
      "text/plain": [
       "                                          Smartphone  Rating  Reviews count  \\\n",
       "0  Redmi 9 (Sky Blue, 4GB RAM, 64GB Storage) | 2....     4.2          87809   \n",
       "1  Redmi 9A (Nature Green, 2GB RAM, 32GB Storage)...     4.2          74587   \n",
       "\n",
       "  Offer price Actual price Saving                 Delivery  \\\n",
       "0        9499        10999   1500  FREE Delivery by Amazon   \n",
       "1        6999         8499   1500  FREE Delivery by Amazon   \n",
       "\n",
       "  Status of stock & more offers  \n",
       "0                           NaN  \n",
       "1                           NaN  "
      ]
     },
     "execution_count": 22,
     "metadata": {},
     "output_type": "execute_result"
    }
   ],
   "source": [
    "df.head(2)"
   ]
  },
  {
   "cell_type": "code",
   "execution_count": 23,
   "id": "77ae6740",
   "metadata": {},
   "outputs": [
    {
     "data": {
      "text/plain": [
       "Smartphone                        object\n",
       "Rating                           float64\n",
       "Reviews count                      int32\n",
       "Offer price                       object\n",
       "Actual price                      object\n",
       "Saving                            object\n",
       "Delivery                          object\n",
       "Status of stock & more offers     object\n",
       "dtype: object"
      ]
     },
     "execution_count": 23,
     "metadata": {},
     "output_type": "execute_result"
    }
   ],
   "source": [
    "df.dtypes"
   ]
  },
  {
   "cell_type": "markdown",
   "id": "90f4404a",
   "metadata": {},
   "source": [
    "### Q6. Find missing values and drop / impute them"
   ]
  },
  {
   "cell_type": "code",
   "execution_count": 24,
   "id": "287ce793",
   "metadata": {},
   "outputs": [
    {
     "data": {
      "text/plain": [
       "Smartphone                         0\n",
       "Rating                             0\n",
       "Reviews count                      0\n",
       "Offer price                      206\n",
       "Actual price                     313\n",
       "Saving                           313\n",
       "Delivery                           0\n",
       "Status of stock & more offers    838\n",
       "dtype: int64"
      ]
     },
     "execution_count": 24,
     "metadata": {},
     "output_type": "execute_result"
    }
   ],
   "source": [
    "df.isnull().sum()"
   ]
  },
  {
   "cell_type": "markdown",
   "id": "e7513eda",
   "metadata": {},
   "source": [
    "#### percentage of missing values"
   ]
  },
  {
   "cell_type": "code",
   "execution_count": 25,
   "id": "80c9edce",
   "metadata": {},
   "outputs": [
    {
     "data": {
      "text/plain": [
       "Smartphone                        0.000000\n",
       "Rating                            0.000000\n",
       "Reviews count                     0.000000\n",
       "Offer price                      15.713196\n",
       "Actual price                     23.874905\n",
       "Saving                           23.874905\n",
       "Delivery                          0.000000\n",
       "Status of stock & more offers    63.920671\n",
       "dtype: float64"
      ]
     },
     "execution_count": 25,
     "metadata": {},
     "output_type": "execute_result"
    }
   ],
   "source": [
    "# How to check null values in percentage\n",
    "df.isnull().sum()/len(df)*100"
   ]
  },
  {
   "cell_type": "markdown",
   "id": "a358a716",
   "metadata": {},
   "source": [
    "### INFERENCE"
   ]
  },
  {
   "cell_type": "markdown",
   "id": "bda25e1a",
   "metadata": {},
   "source": [
    "    1.We have missing values in both numeric and categorical features.\n",
    "    2.For feature Offer price we will check distribution of the data and treat accordingly.\n",
    "    3.For features Actual price and Saving we will use KNN imputation technique.\n",
    "    4.For categorical data we impute null values using mode imputation technique.\n",
    "    5.The feature Status of stock & more offers is having missing values more than 60%, lets drop it."
   ]
  },
  {
   "cell_type": "markdown",
   "id": "b176250b",
   "metadata": {},
   "source": [
    "### Dropping features having more than 45% null values"
   ]
  },
  {
   "cell_type": "code",
   "execution_count": 26,
   "id": "9c5cbca1",
   "metadata": {},
   "outputs": [],
   "source": [
    "df.drop(['Status of stock & more offers'],axis=1,inplace=True)"
   ]
  },
  {
   "cell_type": "markdown",
   "id": "8f30dbd9",
   "metadata": {},
   "source": [
    "### Analyse price  and saving columns"
   ]
  },
  {
   "cell_type": "code",
   "execution_count": 27,
   "id": "12a3170a",
   "metadata": {},
   "outputs": [
    {
     "data": {
      "image/png": "[encoded data removed]",
      "text/plain": [
       "<Figure size 640x480 with 1 Axes>"
      ]
     },
     "metadata": {},
     "output_type": "display_data"
    }
   ],
   "source": [
    "sns.distplot(df['Offer price'])\n",
    "plt.title('Distribution plot of feature Offer price',fontsize=15)\n",
    "plt.show()"
   ]
  },
  {
   "cell_type": "code",
   "execution_count": 28,
   "id": "10c71445",
   "metadata": {},
   "outputs": [
    {
     "data": {
      "image/png": "[encoded data removed]",
      "text/plain": [
       "<Figure size 640x480 with 1 Axes>"
      ]
     },
     "metadata": {},
     "output_type": "display_data"
    }
   ],
   "source": [
    "sns.distplot(df['Actual price'])\n",
    "plt.title('Distribution plot of feature Actual price',fontsize=15)\n",
    "plt.show()"
   ]
  },
  {
   "cell_type": "code",
   "execution_count": 29,
   "id": "06a34f50",
   "metadata": {},
   "outputs": [
    {
     "data": {
      "image/png": "[encoded data removed]",
      "text/plain": [
       "<Figure size 640x480 with 1 Axes>"
      ]
     },
     "metadata": {},
     "output_type": "display_data"
    }
   ],
   "source": [
    "sns.distplot(df['Saving'])\n",
    "plt.title('Distribution plot of feature Saving',fontsize=15)\n",
    "plt.show()"
   ]
  },
  {
   "cell_type": "markdown",
   "id": "25d91e4d",
   "metadata": {},
   "source": [
    "- Given the skewness in all the numeric features, we will address the missing values using both median imputation and KNN imputation techniques."
   ]
  },
  {
   "cell_type": "code",
   "execution_count": 30,
   "id": "3bd614ab",
   "metadata": {},
   "outputs": [],
   "source": [
    "df['Offer price'] = df['Offer price'].fillna(df['Offer price'].median())"
   ]
  },
  {
   "cell_type": "code",
   "execution_count": 31,
   "id": "b087062e",
   "metadata": {},
   "outputs": [],
   "source": [
    "## KNN imputation technique.\n",
    "imputer = KNNImputer(n_neighbors=1)\n",
    "df.iloc[:,[4,5]] = imputer.fit_transform(df.iloc[:,[4,5]])"
   ]
  },
  {
   "cell_type": "code",
   "execution_count": 32,
   "id": "195942ef",
   "metadata": {},
   "outputs": [
    {
     "data": {
      "text/plain": [
       "Smartphone       0\n",
       "Rating           0\n",
       "Reviews count    0\n",
       "Offer price      0\n",
       "Actual price     0\n",
       "Saving           0\n",
       "Delivery         0\n",
       "dtype: int64"
      ]
     },
     "execution_count": 32,
     "metadata": {},
     "output_type": "execute_result"
    }
   ],
   "source": [
    "df.isnull().sum()"
   ]
  },
  {
   "cell_type": "markdown",
   "id": "50a771ee",
   "metadata": {},
   "source": [
    "- After successfully handling the missing values through imputation, we can now proceed to convert the variables to their appropriate data types."
   ]
  },
  {
   "cell_type": "markdown",
   "id": "01c4a04e",
   "metadata": {},
   "source": [
    "### Q7. change the datatype from object to int for offerprice, actualprice and saving"
   ]
  },
  {
   "cell_type": "code",
   "execution_count": 33,
   "id": "6c4ff594",
   "metadata": {},
   "outputs": [],
   "source": [
    "df[['Offer price','Actual price','Saving']] = df[['Offer price','Actual price','Saving']].astype(int)"
   ]
  },
  {
   "cell_type": "code",
   "execution_count": 34,
   "id": "a0cd0a1a",
   "metadata": {},
   "outputs": [
    {
     "data": {
      "text/plain": [
       "Smartphone        object\n",
       "Rating           float64\n",
       "Reviews count      int32\n",
       "Offer price        int32\n",
       "Actual price       int32\n",
       "Saving             int32\n",
       "Delivery          object\n",
       "dtype: object"
      ]
     },
     "execution_count": 34,
     "metadata": {},
     "output_type": "execute_result"
    }
   ],
   "source": [
    "## rechecking the datatypes\n",
    "df.dtypes"
   ]
  },
  {
   "cell_type": "code",
   "execution_count": 35,
   "id": "17984c09",
   "metadata": {},
   "outputs": [],
   "source": [
    "df1 = df.copy()"
   ]
  },
  {
   "cell_type": "markdown",
   "id": "fb6c8773",
   "metadata": {},
   "source": [
    "### Q8. Statistical_summary"
   ]
  },
  {
   "cell_type": "code",
   "execution_count": 36,
   "id": "9e497cdf",
   "metadata": {},
   "outputs": [
    {
     "name": "stdout",
     "output_type": "stream",
     "text": [
      "The Statistical summary of Numerical Column: \n",
      "            Rating  Reviews count   Offer price   Actual price        Saving\n",
      "count  1311.000000     1311.00000  1.311000e+03    1311.000000  1.311000e+03\n",
      "mean      4.347521     7295.59878  3.055888e+04   28102.105263  7.324551e+03\n",
      "std       0.325001    21314.64243  2.117472e+05   32758.342288  8.050069e+04\n",
      "min       4.000000        1.00000  5.000000e+01     299.000000  1.000000e+00\n",
      "25%       4.100000        7.00000  2.999000e+03    4999.000000  1.000000e+03\n",
      "50%       4.200000      341.00000  1.338900e+04   22999.000000  3.500000e+03\n",
      "75%       4.600000     2323.00000  2.299450e+04   28102.000000  7.324000e+03\n",
      "max       5.000000   243715.00000  7.409164e+06  184800.000000  2.890836e+06\n"
     ]
    }
   ],
   "source": [
    "Statistical_summary_of_Numerical_Column = df.describe() \n",
    "print('The Statistical summary of Numerical Column: ')\n",
    "print(Statistical_summary_of_Numerical_Column)"
   ]
  },
  {
   "cell_type": "markdown",
   "id": "4d234ad8",
   "metadata": {},
   "source": [
    "### Statistical Summary of Categorical Columns"
   ]
  },
  {
   "cell_type": "code",
   "execution_count": 37,
   "id": "3182da77",
   "metadata": {},
   "outputs": [
    {
     "name": "stdout",
     "output_type": "stream",
     "text": [
      "The Statistical summary of Categorical Column: \n",
      "                                               Smartphone Delivery\n",
      "count                                                1311     1311\n",
      "unique                                               1307        3\n",
      "top     Nillkin Case for Xiaomi Mi 11 Ultra (6.81\" Inc...     Paid\n",
      "freq                                                    2      652\n"
     ]
    }
   ],
   "source": [
    "Statistical_summary_of_Categorical_Column=df.describe(include=['object'])\n",
    "print('The Statistical summary of Categorical Column: ')\n",
    "print(Statistical_summary_of_Categorical_Column)"
   ]
  },
  {
   "cell_type": "code",
   "execution_count": 38,
   "id": "9f8d2ff7",
   "metadata": {},
   "outputs": [],
   "source": [
    "data= df[['Rating','Reviews count','Offer price','Actual price','Saving']]"
   ]
  },
  {
   "cell_type": "code",
   "execution_count": 39,
   "id": "61a40209",
   "metadata": {},
   "outputs": [
    {
     "data": {
      "image/png": "[encoded data removed]",
      "text/plain": [
       "<Figure size 640x480 with 1 Axes>"
      ]
     },
     "metadata": {},
     "output_type": "display_data"
    }
   ],
   "source": [
    "figure = data.boxplot()\n",
    "figure.set_title(\"Box Plot for Numerical data\",color='m', fontstyle='italic', fontsize=18)\n",
    "plt.show()"
   ]
  },
  {
   "cell_type": "code",
   "execution_count": 40,
   "id": "062f0df7",
   "metadata": {},
   "outputs": [
    {
     "data": {
      "image/png": "[encoded data removed]",
      "text/plain": [
       "<Figure size 640x480 with 1 Axes>"
      ]
     },
     "metadata": {},
     "output_type": "display_data"
    },
    {
     "data": {
      "image/png": "[encoded data removed]",
      "text/plain": [
       "<Figure size 640x480 with 1 Axes>"
      ]
     },
     "metadata": {},
     "output_type": "display_data"
    },
    {
     "data": {
      "image/png": "[encoded data removed]",
      "text/plain": [
       "<Figure size 640x480 with 1 Axes>"
      ]
     },
     "metadata": {},
     "output_type": "display_data"
    },
    {
     "data": {
      "image/png": "[encoded data removed]",
      "text/plain": [
       "<Figure size 640x480 with 1 Axes>"
      ]
     },
     "metadata": {},
     "output_type": "display_data"
    },
    {
     "data": {
      "image/png": "[encoded data removed]",
      "text/plain": [
       "<Figure size 640x480 with 1 Axes>"
      ]
     },
     "metadata": {},
     "output_type": "display_data"
    }
   ],
   "source": [
    "for i in data:\n",
    "    sns.boxplot(data[i])\n",
    "    plt.show()"
   ]
  },
  {
   "cell_type": "markdown",
   "id": "53cac586",
   "metadata": {},
   "source": [
    "- Now we can clearly observe the outliers individually and skewness of the individual variable which is positively skewed."
   ]
  },
  {
   "cell_type": "code",
   "execution_count": 41,
   "id": "df0500d8",
   "metadata": {},
   "outputs": [
    {
     "data": {
      "text/plain": [
       "Rating            0.904333\n",
       "Reviews count     5.164504\n",
       "Offer price      32.635145\n",
       "Actual price      2.391609\n",
       "Saving           35.201497\n",
       "dtype: float64"
      ]
     },
     "execution_count": 41,
     "metadata": {},
     "output_type": "execute_result"
    }
   ],
   "source": [
    "data.skew()"
   ]
  },
  {
   "cell_type": "code",
   "execution_count": 42,
   "id": "de731bd3",
   "metadata": {},
   "outputs": [
    {
     "name": "stdout",
     "output_type": "stream",
     "text": [
      "Mean:\n",
      "Rating               4.347521\n",
      "Reviews count     7295.598780\n",
      "Offer price      30558.883295\n",
      "Actual price     28102.105263\n",
      "Saving            7324.550725\n",
      "dtype: float64\n",
      "Median:\n",
      "Rating               4.2\n",
      "Reviews count      341.0\n",
      "Offer price      13389.0\n",
      "Actual price     22999.0\n",
      "Saving            3500.0\n",
      "dtype: float64\n",
      "Rating           True\n",
      "Reviews count    True\n",
      "Offer price      True\n",
      "Actual price     True\n",
      "Saving           True\n",
      "dtype: bool\n"
     ]
    }
   ],
   "source": [
    "print(\"Mean:\")\n",
    "print(data.mean())\n",
    "print(\"Median:\")\n",
    "print(data.median())\n",
    "print(data.mean()>data.median())"
   ]
  },
  {
   "cell_type": "markdown",
   "id": "1e44c535",
   "metadata": {},
   "source": [
    "### INFERENCE:\n",
    "    A box plot is a visual representation of the five number summary which tells that the box plot show that the Numerical variables has lots of outliers.\n",
    "##### Determination of skewness from box plot:\n",
    "The skeweness of a data can be determined from the box plot, if the both segments are equal , then the distribution of the data is symmetric or it the both segments are unequal which is the bigger segment tells us how the data is skewed.\n",
    "\n",
    "      1. The mean of 'Rating','Reviews count','Offer price','Actual price','Saving' is greater than the median of 'Rating','Reviews count','Offer price','Actual price','Saving', hence it is Positive or right skewed distribution.\n",
    "    [Mean > Median = Positive or right skewed distribution] "
   ]
  },
  {
   "cell_type": "markdown",
   "id": "0b01aef4",
   "metadata": {},
   "source": [
    "### Q9.  Handling outliers"
   ]
  },
  {
   "cell_type": "markdown",
   "id": "8f67f068",
   "metadata": {},
   "source": [
    "#####  Using log transformation"
   ]
  },
  {
   "cell_type": "code",
   "execution_count": 43,
   "id": "03e9b64d",
   "metadata": {},
   "outputs": [],
   "source": [
    "df['Reviews count'] = np.log(df['Reviews count'])"
   ]
  },
  {
   "cell_type": "code",
   "execution_count": 44,
   "id": "b6347bb9",
   "metadata": {},
   "outputs": [],
   "source": [
    "df['Offer price'] = np.log(df['Offer price'])"
   ]
  },
  {
   "cell_type": "code",
   "execution_count": 45,
   "id": "600e8369",
   "metadata": {},
   "outputs": [],
   "source": [
    "df['Actual price'] = np.log(df['Actual price'])"
   ]
  },
  {
   "cell_type": "code",
   "execution_count": 46,
   "id": "c1bb7b94",
   "metadata": {},
   "outputs": [],
   "source": [
    "df['Saving'] = np.log(df['Saving'])"
   ]
  },
  {
   "cell_type": "code",
   "execution_count": 47,
   "id": "043f231a",
   "metadata": {},
   "outputs": [
    {
     "data": {
      "text/plain": [
       "Rating           0.904333\n",
       "Reviews count   -0.036178\n",
       "Offer price     -0.234341\n",
       "Actual price    -0.536487\n",
       "Saving          -0.711538\n",
       "dtype: float64"
      ]
     },
     "execution_count": 47,
     "metadata": {},
     "output_type": "execute_result"
    }
   ],
   "source": [
    "df.skew()"
   ]
  },
  {
   "cell_type": "code",
   "execution_count": 48,
   "id": "7491daf5",
   "metadata": {},
   "outputs": [],
   "source": [
    "df_num = df.select_dtypes(include=np.number)"
   ]
  },
  {
   "cell_type": "code",
   "execution_count": 49,
   "id": "25ac9b81",
   "metadata": {},
   "outputs": [
    {
     "data": {
      "image/png": "[encoded data removed]",
      "text/plain": [
       "<Figure size 640x480 with 1 Axes>"
      ]
     },
     "metadata": {},
     "output_type": "display_data"
    },
    {
     "data": {
      "image/png": "[encoded data removed]",
      "text/plain": [
       "<Figure size 640x480 with 1 Axes>"
      ]
     },
     "metadata": {},
     "output_type": "display_data"
    },
    {
     "data": {
      "image/png": "[encoded data removed]",
      "text/plain": [
       "<Figure size 640x480 with 1 Axes>"
      ]
     },
     "metadata": {},
     "output_type": "display_data"
    },
    {
     "data": {
      "image/png": "[encoded data removed]",
      "text/plain": [
       "<Figure size 640x480 with 1 Axes>"
      ]
     },
     "metadata": {},
     "output_type": "display_data"
    },
    {
     "data": {
      "image/png": "[encoded data removed]",
      "text/plain": [
       "<Figure size 640x480 with 1 Axes>"
      ]
     },
     "metadata": {},
     "output_type": "display_data"
    }
   ],
   "source": [
    "for i in df_num:\n",
    "    sns.boxplot(df_num[i])\n",
    "    plt.show()"
   ]
  },
  {
   "cell_type": "markdown",
   "id": "a1db1f76",
   "metadata": {},
   "source": [
    "- As we can see we have successfully dealt with outliers, We have reduced the outliers impact on distribution of the data which was causing the distribution with high skewness, Now we have reduced the skewness by applying transformation technique."
   ]
  },
  {
   "cell_type": "markdown",
   "id": "a7c43b7b",
   "metadata": {},
   "source": [
    "### Q10.  Find total products and average rating"
   ]
  },
  {
   "cell_type": "code",
   "execution_count": 50,
   "id": "b2dd1f1c",
   "metadata": {},
   "outputs": [
    {
     "name": "stdout",
     "output_type": "stream",
     "text": [
      "The total products : 1311\n",
      "The average rating for the products:  4.347520976353917\n"
     ]
    }
   ],
   "source": [
    "total_products = len(df)\n",
    "average_rating = df['Rating'].mean()\n",
    "print(\"The total products :\", total_products)\n",
    "print(\"The average rating for the products: \", average_rating)"
   ]
  },
  {
   "cell_type": "markdown",
   "id": "6d9bac3d",
   "metadata": {},
   "source": [
    "### Q11. Plotting the distribution of smartphone and accessories ratings:"
   ]
  },
  {
   "cell_type": "code",
   "execution_count": 51,
   "id": "15dac269",
   "metadata": {},
   "outputs": [
    {
     "data": {
      "image/png": "[encoded data removed]",
      "text/plain": [
       "<Figure size 640x480 with 1 Axes>"
      ]
     },
     "metadata": {},
     "output_type": "display_data"
    }
   ],
   "source": [
    "plt.hist(df['Rating'], bins=10)\n",
    "plt.xlabel('Rating')\n",
    "plt.ylabel('Frequency')\n",
    "plt.title('Distribution of Smartphone Ratings')\n",
    "plt.show()"
   ]
  },
  {
   "cell_type": "markdown",
   "id": "f6273333",
   "metadata": {},
   "source": [
    "### Q12. Finding the average discount percentage:"
   ]
  },
  {
   "cell_type": "code",
   "execution_count": 52,
   "id": "31a57630",
   "metadata": {},
   "outputs": [
    {
     "name": "stdout",
     "output_type": "stream",
     "text": [
      "Average discount percentage: 3.81%\n"
     ]
    }
   ],
   "source": [
    "df['Discount Percentage'] = (df['Actual price'] - df['Offer price']) / df['Actual price'] * 100\n",
    "average_discount = df['Discount Percentage'].mean()\n",
    "print(f\"Average discount percentage: {average_discount:.2f}%\")"
   ]
  },
  {
   "cell_type": "markdown",
   "id": "e0824b17",
   "metadata": {},
   "source": [
    "### Q13. Top 10 Rated Smartphones & Accessories 2021 which has Highest Star rating in India on Amazon."
   ]
  },
  {
   "cell_type": "code",
   "execution_count": 53,
   "id": "19d8506f",
   "metadata": {},
   "outputs": [
    {
     "name": "stdout",
     "output_type": "stream",
     "text": [
      "Top 10 Rated Smartphones & Accessories 2021 which has Highest Star rating in India on Amazon :\n",
      "                                             Smartphone  Rating\n",
      "1366  Nillkin Case for Samsung Galaxy A72 A 72 (6.7\"...     5.0\n",
      "1002  Nillkin Tempered Glass for Microsoft Surface P...     5.0\n",
      "1052  Nillkin Case for Xiaomi Mi 11X 11 X / 11X Pro/...     5.0\n",
      "1050  Nillkin Case for Xiaomi Mi 11X 11 X / 11X Pro/...     5.0\n",
      "1041  Nillkin Super Frosted Hard Back Cover PC Case ...     5.0\n",
      "1040  Nillkin Case for Huawei P40 Pro Plus (6.58\" In...     5.0\n",
      "1036                      Avaya 9641G IP Phone by Avaya     5.0\n",
      "1032  I KALL K60 Gold Series Flip Mobile (2.4 Inch, ...     5.0\n",
      "1022  Nillkin Super Frosted Shield Ultra Thin Hard P...     5.0\n",
      "1013  Ziox X61 with Vibration 1.8\" Display Wireless ...     5.0\n"
     ]
    }
   ],
   "source": [
    "Highrated = df.sort_values(by=[\"Rating\"], \n",
    "                                 ascending=False)\n",
    "Highrated= Highrated.head(10)\n",
    "print('Top 10 Rated Smartphones & Accessories 2021 which has Highest Star rating in India on Amazon :')\n",
    "print(Highrated[['Smartphone','Rating']])"
   ]
  },
  {
   "cell_type": "markdown",
   "id": "81db5dcc",
   "metadata": {},
   "source": [
    "### Q14. Top-rated smartphones based on review count:"
   ]
  },
  {
   "cell_type": "code",
   "execution_count": 54,
   "id": "0d3f14b4",
   "metadata": {},
   "outputs": [
    {
     "name": "stdout",
     "output_type": "stream",
     "text": [
      "Top 5 smartphones based on review count:\n",
      "                                           Smartphone  Reviews count\n",
      "11  Samsung Galaxy M31 (Ocean Blue, 8GB RAM, 128GB...      12.403755\n",
      "94  Samsung Galaxy M31 (Space Black, 8GB RAM, 128G...      12.403755\n",
      "13  Samsung Galaxy M21 2021 Edition (Arctic Blue, ...      12.046309\n",
      "25  Samsung Galaxy M21 2021 Edition (Charcoal Blac...      12.046309\n",
      "45  Samsung Galaxy M21 2021 Edition (Arctic Blue, ...      12.046309\n"
     ]
    }
   ],
   "source": [
    "top_review_smartphones = df.nlargest(5, 'Reviews count')\n",
    "print(\"Top 5 smartphones based on review count:\")\n",
    "print(top_review_smartphones[['Smartphone', 'Reviews count']])"
   ]
  },
  {
   "cell_type": "markdown",
   "id": "f8b16a98",
   "metadata": {},
   "source": [
    "### Q15. Insights about delivery options"
   ]
  },
  {
   "cell_type": "code",
   "execution_count": 55,
   "id": "c808ab93",
   "metadata": {},
   "outputs": [
    {
     "name": "stdout",
     "output_type": "stream",
     "text": [
      "Paid                         652\n",
      "FREE Delivery by Amazon      584\n",
      "First Order Free Delivery     75\n",
      "Name: Delivery, dtype: int64\n"
     ]
    }
   ],
   "source": [
    "delivery_options_count = df['Delivery'].value_counts()\n",
    "print(delivery_options_count)"
   ]
  },
  {
   "cell_type": "markdown",
   "id": "8a3a7c1f",
   "metadata": {},
   "source": [
    "### Q16. Total Sales insights"
   ]
  },
  {
   "cell_type": "code",
   "execution_count": 56,
   "id": "6bcac044",
   "metadata": {},
   "outputs": [
    {
     "name": "stdout",
     "output_type": "stream",
     "text": [
      "Total sales (sum of reviews): 6838.4020809985595\n"
     ]
    }
   ],
   "source": [
    "total_sales = df['Reviews count'].sum()\n",
    "print(f\"Total sales (sum of reviews): {total_sales}\")"
   ]
  },
  {
   "cell_type": "code",
   "execution_count": 57,
   "id": "c13a415c",
   "metadata": {},
   "outputs": [
    {
     "name": "stdout",
     "output_type": "stream",
     "text": [
      "Basic Insights:\n",
      "Total products: 1311\n",
      "Average rating: 4.35\n",
      "Average discount: 3.81%\n",
      "\n",
      "Top 10 Products by Rating:\n",
      "                                             Smartphone  Rating\n",
      "1366  Nillkin Case for Samsung Galaxy A72 A 72 (6.7\"...     5.0\n",
      "1002  Nillkin Tempered Glass for Microsoft Surface P...     5.0\n",
      "1052  Nillkin Case for Xiaomi Mi 11X 11 X / 11X Pro/...     5.0\n",
      "1050  Nillkin Case for Xiaomi Mi 11X 11 X / 11X Pro/...     5.0\n",
      "1041  Nillkin Super Frosted Hard Back Cover PC Case ...     5.0\n",
      "1040  Nillkin Case for Huawei P40 Pro Plus (6.58\" In...     5.0\n",
      "1036                      Avaya 9641G IP Phone by Avaya     5.0\n",
      "1032  I KALL K60 Gold Series Flip Mobile (2.4 Inch, ...     5.0\n",
      "1022  Nillkin Super Frosted Shield Ultra Thin Hard P...     5.0\n",
      "1013  Ziox X61 with Vibration 1.8\" Display Wireless ...     5.0\n",
      "\n",
      "Top 10 Products by Number of Reviews:\n",
      "                                           Smartphone  Reviews count\n",
      "11  Samsung Galaxy M31 (Ocean Blue, 8GB RAM, 128GB...      12.403755\n",
      "94  Samsung Galaxy M31 (Space Black, 8GB RAM, 128G...      12.403755\n",
      "13  Samsung Galaxy M21 2021 Edition (Arctic Blue, ...      12.046309\n",
      "25  Samsung Galaxy M21 2021 Edition (Charcoal Blac...      12.046309\n",
      "45  Samsung Galaxy M21 2021 Edition (Arctic Blue, ...      12.046309\n",
      "\n",
      "Delivery Options Insights:\n",
      "Paid                         652\n",
      "FREE Delivery by Amazon      584\n",
      "First Order Free Delivery     75\n",
      "Name: Delivery, dtype: int64\n",
      "\n",
      "Sales Insights:\n",
      "Total sales (sum of reviews): 6838.4020809985595\n"
     ]
    }
   ],
   "source": [
    "print(\"Basic Insights:\")\n",
    "print(f\"Total products: {total_products}\")\n",
    "print(f\"Average rating: {average_rating:.2f}\")\n",
    "print(f\"Average discount: {average_discount:.2f}%\")\n",
    "print()\n",
    "\n",
    "print(\"Top 10 Products by Rating:\")\n",
    "print(Highrated[['Smartphone','Rating']])\n",
    "print()\n",
    "\n",
    "print(\"Top 10 Products by Number of Reviews:\")\n",
    "print(top_review_smartphones[['Smartphone', 'Reviews count']])\n",
    "print()\n",
    "\n",
    "print(\"Delivery Options Insights:\")\n",
    "print(delivery_options_count)\n",
    "print()\n",
    "\n",
    "print(\"Sales Insights:\")\n",
    "print(f\"Total sales (sum of reviews): {total_sales}\")"
   ]
  },
  {
   "cell_type": "markdown",
   "id": "3e1cbccd",
   "metadata": {},
   "source": [
    "### Q17. Relationship between the offer price of smartphones and accessories and their ratings on Amazon"
   ]
  },
  {
   "cell_type": "code",
   "execution_count": 58,
   "id": "53acc7d9",
   "metadata": {},
   "outputs": [
    {
     "name": "stdout",
     "output_type": "stream",
     "text": [
      "The Correlation Matrix for Offer price and Number Of Ratings:\n",
      "             Offer price    Rating\n",
      "Offer price     1.000000 -0.123924\n",
      "Rating         -0.123924  1.000000\n",
      "The Correlation Value for Offer price and Number Of Ratings:\n",
      "-0.12392416250709264\n"
     ]
    }
   ],
   "source": [
    "df_data=df[[\"Offer price\",\"Rating\",]]\n",
    "correlation = df[\"Offer price\"].corr(df[\"Rating\"])\n",
    "print(\"The Correlation Matrix for Offer price and Number Of Ratings:\")\n",
    "print(df_data.corr())\n",
    "print(\"The Correlation Value for Offer price and Number Of Ratings:\")\n",
    "print(correlation)"
   ]
  },
  {
   "cell_type": "code",
   "execution_count": 59,
   "id": "46d83a95",
   "metadata": {},
   "outputs": [
    {
     "data": {
      "image/png": "[encoded data removed]",
      "text/plain": [
       "<Figure size 600x600 with 2 Axes>"
      ]
     },
     "metadata": {},
     "output_type": "display_data"
    }
   ],
   "source": [
    "figure1 = plt.subplots(figsize=(6, 6))   \n",
    "sns.heatmap(df_data.corr(), annot=True, linewidths=0.05, fmt= '.2f',cmap=\"Pastel1\") # the color intensity is based on \n",
    "plt.show()"
   ]
  },
  {
   "cell_type": "markdown",
   "id": "ac57f67f",
   "metadata": {},
   "source": [
    "### INFERENCE:\n",
    "    1.There is a negative linear correlation between the offer Price and the number of ratings for smartphones and accessories sold in Amazon.\n",
    "    2.It means as the offer price increase the sales are decreasing.\n",
    "    3.The smartphones and accessories with the lower offer prices are sold more in Amazon."
   ]
  }
 ],
 "metadata": {
  "kernelspec": {
   "display_name": "Python 3 (ipykernel)",
   "language": "python",
   "name": "python3"
  },
  "language_info": {
   "codemirror_mode": {
    "name": "ipython",
    "version": 3
   },
   "file_extension": ".py",
   "mimetype": "text/x-python",
   "name": "python",
   "nbconvert_exporter": "python",
   "pygments_lexer": "ipython3",
   "version": "3.9.13"
  }
 },
 "nbformat": 4,
 "nbformat_minor": 5
}
